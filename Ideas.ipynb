{
 "cells": [
  {
   "cell_type": "code",
   "execution_count": 2,
   "metadata": {},
   "outputs": [],
   "source": [
    "import pyaudio\n",
    "import wave\n",
    "import numpy as np\n",
    "import math\n",
    "import matplotlib.pyplot as plt\n",
    "%matplotlib inline"
   ]
  },
  {
   "cell_type": "code",
   "execution_count": 3,
   "metadata": {},
   "outputs": [],
   "source": [
    "message = \"hello from the other side hakuna matata abcdefghijklmnopqrstuvwxyz .\""
   ]
  },
  {
   "cell_type": "markdown",
   "metadata": {},
   "source": [
    "# Transmitter"
   ]
  },
  {
   "cell_type": "markdown",
   "metadata": {},
   "source": [
    "## Char-Freq Table\n",
    "\n",
    "We should compute this as fast as possible and then start transmitting to the receiver. **Figure out if there are some frequencies that we should let the more common characters take.** If so, we can create a Huffman Encoding table but that's going to involve a lot of overhead so make sure it's worth it. Start transmitting as soon as this is done building and transmit asynchronously while doing following step. "
   ]
  },
  {
   "cell_type": "code",
   "execution_count": 4,
   "metadata": {},
   "outputs": [
    {
     "name": "stdout",
     "output_type": "stream",
     "text": [
      "5000\n",
      "8600\n"
     ]
    }
   ],
   "source": [
    "t = 1\n",
    "samples = 10000 # This is super weird - 333 and 3333 work perfectly but 10000 doesn't. Even 33 works well?!\n",
    "\n",
    "# Create a set with every character in file \n",
    "\n",
    "# Assign each possible char an integer (frequency) in a hash set\n",
    "\n",
    "# Send sinusoids - two for each mapping because one for char and one for frequency \n",
    "\n",
    "\n",
    "\n",
    "# Frequency range (will need to test this)\n",
    "freq_range = range(5000, 15000, 300)\n",
    "\n",
    "chars = \"abcdefghijklmnopqrstuvwxyz .\"\n",
    "\n",
    "char_freq_table = {}\n",
    "projection_matrix = []\n",
    "\n",
    "for i in range(len(chars)):\n",
    "    char_freq_table[chars[i]] = freq_range[i]\n",
    "    projection_matrix.append(np.sin(2 * np.pi * freq_range[i] * np.arange(t * samples) / samples))\n",
    "print(char_freq_table['a'])\n",
    "print(char_freq_table['m'])"
   ]
  },
  {
   "cell_type": "markdown",
   "metadata": {},
   "source": [
    "## Encode Chars to Frequencies\n",
    "\n",
    "Separate .txt file into chunks. Give each char in a chunk a phase and then encode frequencies according to char-freq table. **There doesn't have to be a one-to-one correspondence between sinusoid and char.** If I can fit multiple chars into one sinusoid, that's better. Only ~50 commonly used characters and thousands of frequencies. "
   ]
  },
  {
   "cell_type": "code",
   "execution_count": 143,
   "metadata": {},
   "outputs": [
    {
     "name": "stdout",
     "output_type": "stream",
     "text": [
      "[[7100, 6200, 8300, 8300, 9200], [12800, 6500, 10100, 9200, 8600], [12800, 10700, 7100, 6200, 12800], [9200, 10700, 7100, 6200, 10100], [12800, 10400, 7400, 5900, 6200], [12800, 7100, 5000, 8000, 11000], [8900, 5000, 12800, 8600, 5000], [10700, 5000, 10700, 5000, 12800], [5000, 5300, 5600, 5900, 6200], [6500, 6800, 7100, 7400, 7700], [8000, 8300, 8600, 8900, 9200], [9500, 9800, 10100, 10400, 10700], [11000, 11300, 11600, 11900, 12200], [12500, 12800, 13100]]\n"
     ]
    }
   ],
   "source": [
    "chunk_size = 5\n",
    "\n",
    "split_message = [message[i:i+chunk_size] for i in range(0, len(message), chunk_size)]\n",
    "\n",
    "message_freq = []\n",
    "\n",
    "for chunk in split_message:\n",
    "    message_freq.append([char_freq_table[char] for char in chunk])\n",
    "\n",
    "print(message_freq)"
   ]
  },
  {
   "cell_type": "markdown",
   "metadata": {},
   "source": [
    "## Create Superposition"
   ]
  },
  {
   "cell_type": "code",
   "execution_count": 144,
   "metadata": {},
   "outputs": [
    {
     "name": "stdout",
     "output_type": "stream",
     "text": [
      "[ 0.         -0.96858316  0.48175367 ...  0.9139903   1.05320337\n",
      "  3.8874973 ]\n"
     ]
    }
   ],
   "source": [
    "# I think we'll need to communicate length of the message and chunk size \n",
    "sigma = .5\n",
    "delay = t / chunk_size \n",
    "\n",
    "superpositions = []\n",
    "\n",
    "# For each chunk, generate 3 sinusoids \n",
    "for chunk in message_freq:\n",
    "    # Create 3 sinusoids \n",
    "    sins = [np.sin(2 * np.pi * freq * np.arange(t * samples) / samples) for freq in chunk]\n",
    "    chunk_super = np.zeros(samples)\n",
    "    # Put 3 sinusoids in superposition with delay \n",
    "    for i in range(samples):\n",
    "        for j in range(len(sins)): # Use len(sins) because the group might be less than chunks\n",
    "            if i >= int(j * delay * samples):\n",
    "                #chunk_super[i] += sins[j][i - int(j * delay)]\n",
    "                chunk_super[i] += sins[j][i] # No delay - just removing first parts of later sinusoids\n",
    "    #chunk_super += np.random.normal(loc=0.0, scale=sigma, size=[samples,])\n",
    "    superpositions.append(chunk_super)\n",
    "\n",
    "print(superpositions[0])"
   ]
  },
  {
   "cell_type": "markdown",
   "metadata": {},
   "source": [
    "## Test Projection"
   ]
  },
  {
   "cell_type": "code",
   "execution_count": 145,
   "metadata": {},
   "outputs": [
    {
     "name": "stdout",
     "output_type": "stream",
     "text": [
      "Decoded versoin: \n",
      "hleoc from thefother side hkunn miwt fwibcdelfghijklmnopqrstuvwxyz .op\n"
     ]
    }
   ],
   "source": [
    "def projection(superpositions):\n",
    "    proj_results = [] \n",
    "    for chunk in superpositions:\n",
    "        largest = np.argsort(np.dot(chunk, np.transpose(projection_matrix)))[::-1][:chunk_size]\n",
    "        proj_results.extend(largest) \n",
    "    return \"\".join([chars[i] for i in proj_results])\n",
    "    \n",
    "print(\"Decoded versoin: \")\n",
    "print(projection(superpositions))\n",
    "\n",
    "# So for some reason, 'a' maps to 'm' and 'z' maps to 'q'"
   ]
  },
  {
   "cell_type": "markdown",
   "metadata": {},
   "source": [
    "## Create Waveforms"
   ]
  },
  {
   "cell_type": "code",
   "execution_count": 146,
   "metadata": {},
   "outputs": [
    {
     "ename": "NameError",
     "evalue": "name 'gen_sinusoids' is not defined",
     "output_type": "error",
     "traceback": [
      "\u001b[0;31m---------------------------------------------------------------------------\u001b[0m",
      "\u001b[0;31mNameError\u001b[0m                                 Traceback (most recent call last)",
      "\u001b[0;32m<ipython-input-146-ccb454c34104>\u001b[0m in \u001b[0;36m<module>\u001b[0;34m\u001b[0m\n\u001b[1;32m      9\u001b[0m \u001b[0mwaveforms\u001b[0m \u001b[0;34m=\u001b[0m \u001b[0;34m[\u001b[0m\u001b[0;34m]\u001b[0m\u001b[0;34m\u001b[0m\u001b[0;34m\u001b[0m\u001b[0m\n\u001b[1;32m     10\u001b[0m \u001b[0mchunk_size\u001b[0m \u001b[0;34m=\u001b[0m \u001b[0;36m1\u001b[0m\u001b[0;34m\u001b[0m\u001b[0;34m\u001b[0m\u001b[0m\n\u001b[0;32m---> 11\u001b[0;31m \u001b[0mwaveforms\u001b[0m \u001b[0;34m=\u001b[0m \u001b[0mgen_waveforms\u001b[0m\u001b[0;34m(\u001b[0m\u001b[0mchunk_size\u001b[0m\u001b[0;34m,\u001b[0m \u001b[0mmessage_freq\u001b[0m\u001b[0;34m)\u001b[0m\u001b[0;34m\u001b[0m\u001b[0;34m\u001b[0m\u001b[0m\n\u001b[0m",
      "\u001b[0;32m<ipython-input-146-ccb454c34104>\u001b[0m in \u001b[0;36mgen_waveforms\u001b[0;34m(chunk_size, message_freq)\u001b[0m\n\u001b[1;32m      4\u001b[0m \u001b[0;34m\u001b[0m\u001b[0m\n\u001b[1;32m      5\u001b[0m     \u001b[0;31m# Encode each string in split_message as a superposition of frequencies\u001b[0m\u001b[0;34m\u001b[0m\u001b[0;34m\u001b[0m\u001b[0;34m\u001b[0m\u001b[0m\n\u001b[0;32m----> 6\u001b[0;31m     \u001b[0msuperpositions\u001b[0m \u001b[0;34m=\u001b[0m \u001b[0;34m[\u001b[0m\u001b[0mgen_sinusoids\u001b[0m\u001b[0;34m(\u001b[0m\u001b[0mchunk_size\u001b[0m\u001b[0;34m,\u001b[0m \u001b[0;34m[\u001b[0m\u001b[0;34m]\u001b[0m\u001b[0;34m)\u001b[0m\u001b[0;34m]\u001b[0m\u001b[0;34m\u001b[0m\u001b[0;34m\u001b[0m\u001b[0m\n\u001b[0m\u001b[1;32m      7\u001b[0m \u001b[0;34m\u001b[0m\u001b[0m\n\u001b[1;32m      8\u001b[0m \u001b[0;34m\u001b[0m\u001b[0m\n",
      "\u001b[0;31mNameError\u001b[0m: name 'gen_sinusoids' is not defined"
     ]
    }
   ],
   "source": [
    "def gen_waveforms(chunk_size, message_freq):\n",
    "    # Separate message into an array of strings of length chunk_size \n",
    "    split_message = [message[i:i+chunk_size] for i in range(0, len(message), chunk_size)]\n",
    "    \n",
    "    # Encode each string in split_message as a superposition of frequencies \n",
    "    superpositions = [gen_sinusoids(chunk_size, [])]\n",
    "    \n",
    "\n",
    "waveforms = []\n",
    "chunk_size = 1 \n",
    "waveforms = gen_waveforms(chunk_size, message_freq)"
   ]
  },
  {
   "cell_type": "code",
   "execution_count": 41,
   "metadata": {},
   "outputs": [
    {
     "name": "stdout",
     "output_type": "stream",
     "text": [
      "['hel', 'lo ', 'fro', 'm t', 'he ', 'oth', 'er ', 'sid', 'e']\n"
     ]
    }
   ],
   "source": [
    "test = [message[i:i+3] for i in range(0, len(message), 3)]\n",
    "print(test)"
   ]
  },
  {
   "cell_type": "markdown",
   "metadata": {},
   "source": [
    "## Transmit \n",
    "\n",
    "We have to transmit according to some ECC that allows for ambient noise and sudden noise. "
   ]
  },
  {
   "cell_type": "code",
   "execution_count": 37,
   "metadata": {},
   "outputs": [
    {
     "name": "stdout",
     "output_type": "stream",
     "text": [
      "80000\n"
     ]
    }
   ],
   "source": [
    "p = pyaudio.PyAudio()\n",
    "length = .1 # number of seconds to play sound \n",
    "\n",
    "# Generate a wave for full message (change this to generate one chunk at a time)\n",
    "wavedata = ''\n",
    "\n",
    "for freq in message_freq:\n",
    "    bitrate = 16000 # number of frames per second \n",
    "    frequency = freq\n",
    "    if frequency > bitrate:\n",
    "        bitrate = frequency + 100 \n",
    "    num_frames = int(bitrate * length)\n",
    "    rest_frames = num_frames % bitrate \n",
    "    \n",
    "    #generate waves \n",
    "    for j in range(num_frames):\n",
    "        wavedata += chr(int(math.sin(j / ((bitrate / frequency) / math.pi)) * 127 + 128))\n",
    "    for j in range(rest_frames):\n",
    "        wavedata += chr(128)\n",
    "\n",
    "print(len(wavedata))\n",
    "\n",
    "# Now play wavedata\n",
    "stream = p.open(format=p.get_format_from_width(1), channels=1, rate=bitrate, output=True)\n",
    "stream.write(wavedata)\n",
    "stream.stop_stream()\n",
    "stream.close()\n",
    "p.terminate()"
   ]
  },
  {
   "cell_type": "markdown",
   "metadata": {},
   "source": [
    "# Receiver"
   ]
  },
  {
   "cell_type": "markdown",
   "metadata": {},
   "source": [
    "## Start Recording Audio\n",
    "\n",
    "[Source](https://stackoverflow.com/questions/35344649/reading-input-sound-signal-using-python)"
   ]
  },
  {
   "cell_type": "code",
   "execution_count": 2,
   "metadata": {},
   "outputs": [],
   "source": [
    "# CHUNK = 1024\n",
    "# FORMAT = pyaudio.paInt16\n",
    "# CHANNELS = 2\n",
    "# RATE = 44100\n",
    "# RECORD_SECONDS = 5\n",
    "# WAVE_OUTPUT_FILENAME = \"output.wav\"\n",
    "\n",
    "# p = pyaudio.PyAudio()\n",
    "\n",
    "# stream = p.open(format=FORMAT,\n",
    "#                 channels=CHANNELS,\n",
    "#                 rate=RATE,\n",
    "#                 input=True,\n",
    "#                 frames_per_buffer=CHUNK)\n",
    "\n",
    "# print(\"* recording\")\n",
    "\n",
    "# frames = []\n",
    "\n",
    "# for i in range(0, int(RATE / CHUNK * RECORD_SECONDS)):\n",
    "#     data = stream.read(CHUNK)\n",
    "#     frames.append(data)\n",
    "\n",
    "# print(\"* done recording\")\n",
    "\n",
    "# stream.stop_stream()\n",
    "# stream.close()\n",
    "# p.terminate()\n",
    "\n",
    "# wf = wave.open(WAVE_OUTPUT_FILENAME, 'wb')\n",
    "# wf.setnchannels(CHANNELS)\n",
    "# wf.setsampwidth(p.get_sample_size(FORMAT))\n",
    "# wf.setframerate(RATE)\n",
    "# wf.writeframes(b''.join(frames))\n",
    "# wf.close()\n",
    "\n",
    "\n",
    "# Listen for sinusoid that means \"start of char-freq table\"\n",
    "\n"
   ]
  },
  {
   "cell_type": "markdown",
   "metadata": {},
   "source": [
    "## Receive Char-Freq Table\n",
    "\n",
    "We'll need some already-known way to transfer this. "
   ]
  },
  {
   "cell_type": "code",
   "execution_count": null,
   "metadata": {},
   "outputs": [],
   "source": []
  },
  {
   "cell_type": "markdown",
   "metadata": {},
   "source": [
    "## Decoding \n",
    "\n",
    "Listen for chunk, receive it, then decode and write to file **asynchronously** while listening to next chunk. "
   ]
  },
  {
   "cell_type": "markdown",
   "metadata": {},
   "source": [
    "### Listen for Chunk"
   ]
  },
  {
   "cell_type": "code",
   "execution_count": null,
   "metadata": {},
   "outputs": [],
   "source": []
  },
  {
   "cell_type": "markdown",
   "metadata": {},
   "source": [
    "### Decode Chunk\n",
    "\n",
    "Use ECC. The goal is to do a one-pass over the file so we need to have *lots* of redundancy and capability to recover from errors. "
   ]
  },
  {
   "cell_type": "code",
   "execution_count": null,
   "metadata": {},
   "outputs": [],
   "source": []
  },
  {
   "cell_type": "markdown",
   "metadata": {},
   "source": [
    "### Write to File"
   ]
  },
  {
   "cell_type": "code",
   "execution_count": null,
   "metadata": {},
   "outputs": [],
   "source": []
  },
  {
   "cell_type": "code",
   "execution_count": 7,
   "metadata": {},
   "outputs": [],
   "source": [
    "pls = np.sin(2 * np.pi * freq_range[0] * np.arange(t * samples) / samples)"
   ]
  },
  {
   "cell_type": "code",
   "execution_count": 8,
   "metadata": {},
   "outputs": [
    {
     "data": {
      "text/plain": [
       "(10000,)"
      ]
     },
     "execution_count": 8,
     "metadata": {},
     "output_type": "execute_result"
    }
   ],
   "source": [
    "np.shape(pls)"
   ]
  },
  {
   "cell_type": "code",
   "execution_count": 12,
   "metadata": {},
   "outputs": [],
   "source": [
    "x = []"
   ]
  },
  {
   "cell_type": "code",
   "execution_count": 10,
   "metadata": {},
   "outputs": [],
   "source": [
    "x = np.append(x, pls)"
   ]
  },
  {
   "cell_type": "code",
   "execution_count": 13,
   "metadata": {},
   "outputs": [],
   "source": [
    "x.append(pls)"
   ]
  },
  {
   "cell_type": "code",
   "execution_count": 14,
   "metadata": {},
   "outputs": [
    {
     "data": {
      "text/plain": [
       "[array([ 0.00000000e+00,  1.22464680e-16, -2.44929360e-16, ...,\n",
       "        -3.42467327e-13,  2.49173664e-12, -1.00302714e-12])]"
      ]
     },
     "execution_count": 14,
     "metadata": {},
     "output_type": "execute_result"
    }
   ],
   "source": [
    "x"
   ]
  },
  {
   "cell_type": "code",
   "execution_count": null,
   "metadata": {},
   "outputs": [],
   "source": []
  }
 ],
 "metadata": {
  "kernelspec": {
   "display_name": "Python 3",
   "language": "python",
   "name": "python3"
  },
  "language_info": {
   "codemirror_mode": {
    "name": "ipython",
    "version": 3
   },
   "file_extension": ".py",
   "mimetype": "text/x-python",
   "name": "python",
   "nbconvert_exporter": "python",
   "pygments_lexer": "ipython3",
   "version": "3.7.2"
  }
 },
 "nbformat": 4,
 "nbformat_minor": 2
}
