{
 "cells": [
  {
   "cell_type": "code",
   "execution_count": 2,
   "metadata": {},
   "outputs": [],
   "source": [
    "import pyaudio\n",
    "import wave\n",
    "import numpy as np\n",
    "import math\n",
    "import matplotlib.pyplot as plt\n",
    "%matplotlib inline"
   ]
  },
  {
   "cell_type": "code",
   "execution_count": 67,
   "metadata": {},
   "outputs": [],
   "source": [
    "message = \"hello from the other side hakuna matata\""
   ]
  },
  {
   "cell_type": "markdown",
   "metadata": {},
   "source": [
    "# Transmitter"
   ]
  },
  {
   "cell_type": "markdown",
   "metadata": {},
   "source": [
    "## Char-Freq Table\n",
    "\n",
    "We should compute this as fast as possible and then start transmitting to the receiver. **Figure out if there are some frequencies that we should let the more common characters take.** If so, we can create a Huffman Encoding table but that's going to involve a lot of overhead so make sure it's worth it. Start transmitting as soon as this is done building and transmit asynchronously while doing following step. "
   ]
  },
  {
   "cell_type": "code",
   "execution_count": 68,
   "metadata": {},
   "outputs": [],
   "source": [
    "t = 1\n",
    "samples = 100000\n",
    "\n",
    "# Create a set with every character in file \n",
    "\n",
    "# Assign each possible char an integer (frequency) in a hash set\n",
    "\n",
    "# Send sinusoids - two for each mapping because one for char and one for frequency \n",
    "\n",
    "\n",
    "\n",
    "# Frequency range (will need to test this)\n",
    "freq_range = range(5000, 15000, 200)\n",
    "\n",
    "chars = \"abcdefghijklmnopqrstuvwxyz .\"\n",
    "\n",
    "char_freq_table = {}\n",
    "projection_matrix = []\n",
    "\n",
    "for i in range(len(chars)):\n",
    "    char_freq_table[chars[i]] = freq_range[i]\n",
    "    projection_matrix.append(np.sin(2 * np.pi * freq_range[i] * np.arange(t * samples) / samples))"
   ]
  },
  {
   "cell_type": "markdown",
   "metadata": {},
   "source": [
    "## Encode Chars to Frequencies\n",
    "\n",
    "Separate .txt file into chunks. Give each char in a chunk a phase and then encode frequencies according to char-freq table. **There doesn't have to be a one-to-one correspondence between sinusoid and char.** If I can fit multiple chars into one sinusoid, that's better. Only ~50 commonly used characters and thousands of frequencies. "
   ]
  },
  {
   "cell_type": "code",
   "execution_count": 88,
   "metadata": {},
   "outputs": [
    {
     "name": "stdout",
     "output_type": "stream",
     "text": [
      "[[6400, 5800, 7200], [7200, 7800, 10200], [6000, 8400, 7800], [7400, 10200, 8800], [6400, 5800, 10200], [7800, 8800, 6400], [5800, 8400, 10200], [8600, 6600, 5600], [5800, 10200, 6400], [5000, 7000, 9000], [7600, 5000, 10200], [7400, 5000, 8800], [5000, 8800, 5000]]\n"
     ]
    }
   ],
   "source": [
    "chunk_size = 3\n",
    "\n",
    "split_message = [message[i:i+chunk_size] for i in range(0, len(message), chunk_size)]\n",
    "\n",
    "message_freq = []\n",
    "\n",
    "for chunk in split_message:\n",
    "    message_freq.append([char_freq_table[char] for char in chunk])\n",
    "\n",
    "print(message_freq)"
   ]
  },
  {
   "cell_type": "markdown",
   "metadata": {},
   "source": [
    "## Create Superposition"
   ]
  },
  {
   "cell_type": "code",
   "execution_count": 89,
   "metadata": {},
   "outputs": [],
   "source": [
    "# I think we'll need to communicate length of the message and chunk size \n",
    "sigma = .5\n",
    "delay = t / chunk_size \n",
    "\n",
    "superpositions = []\n",
    "\n",
    "# For each chunk, generate 3 sinusoids \n",
    "for chunk in message_freq:\n",
    "    # Create 3 sinusoids \n",
    "    sins = [np.sin(2 * np.pi * freq * np.arange(t * samples) / samples) for freq in chunk]\n",
    "    chunk_super = np.zeros(samples)\n",
    "    # Put 3 sinusoids in superposition with delay \n",
    "    for i in range(samples):\n",
    "        for j in range(len(sins)): # Use len(sins) because the group might be less than chunks\n",
    "            if i >= int(j * delay * samples):\n",
    "                #chunk_super[i] += sins[j][i - int(j * delay)]\n",
    "                chunk_super[i] += sins[j][i] # No delay - just removing first parts of later sinusoids\n",
    "    #chunk_super += np.random.normal(loc=0.0, scale=sigma, size=[samples,])\n",
    "    superpositions.append(chunk_super)"
   ]
  },
  {
   "cell_type": "markdown",
   "metadata": {},
   "source": [
    "## Test Projection"
   ]
  },
  {
   "cell_type": "code",
   "execution_count": 93,
   "metadata": {},
   "outputs": [
    {
     "name": "stdout",
     "output_type": "stream",
     "text": [
      "Decoded versoin: \n",
      "hello from the other side hakuna matatu\n"
     ]
    }
   ],
   "source": [
    "def projection(superpositions):\n",
    "    proj_matrices = []\n",
    "    for i in range(chunk_size):\n",
    "        copy = np.copy(projection_matrix)\n",
    "        indices_to_remove = np.s_[(samples - int(samples * delay * i)):]\n",
    "        #indices_to_remove = np.s_[:int(samples * delay * i)]\n",
    "        copy = np.delete(copy, indices_to_remove, 1)\n",
    "        print(\"Reduced, \", np.shape(copy))\n",
    "        zeros = np.zeros((len(chars), int(samples * delay * i)))\n",
    "        print(\"Zeros, \", np.shape(zeros))\n",
    "        copy = np.append(zeros, copy, 1)\n",
    "        proj_matrices.append(copy)\n",
    "        print(\"Combined, \", np.shape(copy))\n",
    "    proj_results = [np.argmax(np.dot(superpositions[i], np.transpose(matrix))) for matrix in proj_matrices for i in range(len(superpositions))]\n",
    "    #return proj_results\n",
    "    return [chars[i] for i in proj_results]\n",
    "    \n",
    "def projection(superpositions):\n",
    "    proj_results = [] \n",
    "    for chunk in superpositions:\n",
    "        largest = np.argsort(np.dot(chunk, np.transpose(projection_matrix)))[::-1][:chunk_size]\n",
    "        proj_results.extend(largest) \n",
    "    return \"\".join([chars[i] for i in proj_results])\n",
    "    \n",
    "print(\"Decoded versoin: \")\n",
    "print(projection(superpositions))"
   ]
  },
  {
   "cell_type": "code",
   "execution_count": 91,
   "metadata": {},
   "outputs": [
    {
     "name": "stdout",
     "output_type": "stream",
     "text": [
      "[3 2]\n"
     ]
    }
   ],
   "source": [
    "test = [[1, 2, 3], [4, 5, 6], [7, 8, 9]]\n",
    "new = np.zeros(3)\n",
    "for i in range(3):\n",
    "    for j in range(3):\n",
    "        new[i] += test[j][i]\n",
    "        \n",
    "#print(new)\n",
    "\n",
    "a = np.array([0, 2, 3, 4])\n",
    "print(np.argsort(a)[::-1][:2])"
   ]
  },
  {
   "cell_type": "markdown",
   "metadata": {},
   "source": [
    "## Create Waveforms"
   ]
  },
  {
   "cell_type": "code",
   "execution_count": 42,
   "metadata": {},
   "outputs": [],
   "source": [
    "def gen_waveforms(chunk_size, message_freq):\n",
    "    # Separate message into an array of strings of length chunk_size \n",
    "    split_message = [message[i:i+chunk_size] for i in range(0, len(message), chunk_size)]\n",
    "    \n",
    "    # Encode each string in split_message as a superposition of frequencies \n",
    "    superpositions = [gen_sinusoids(chunk_size, [])]\n",
    "    \n",
    "\n",
    "waveforms = []\n",
    "chunk_size = 1 \n",
    "waveforms = gen_waveforms(chunk_size, message_freq)"
   ]
  },
  {
   "cell_type": "code",
   "execution_count": 41,
   "metadata": {},
   "outputs": [
    {
     "name": "stdout",
     "output_type": "stream",
     "text": [
      "['hel', 'lo ', 'fro', 'm t', 'he ', 'oth', 'er ', 'sid', 'e']\n"
     ]
    }
   ],
   "source": [
    "test = [message[i:i+3] for i in range(0, len(message), 3)]\n",
    "print(test)"
   ]
  },
  {
   "cell_type": "markdown",
   "metadata": {},
   "source": [
    "## Transmit \n",
    "\n",
    "We have to transmit according to some ECC that allows for ambient noise and sudden noise. "
   ]
  },
  {
   "cell_type": "code",
   "execution_count": 37,
   "metadata": {},
   "outputs": [
    {
     "name": "stdout",
     "output_type": "stream",
     "text": [
      "80000\n"
     ]
    }
   ],
   "source": [
    "p = pyaudio.PyAudio()\n",
    "length = .1 # number of seconds to play sound \n",
    "\n",
    "# Generate a wave for full message (change this to generate one chunk at a time)\n",
    "wavedata = ''\n",
    "\n",
    "for freq in message_freq:\n",
    "    bitrate = 16000 # number of frames per second \n",
    "    frequency = freq\n",
    "    if frequency > bitrate:\n",
    "        bitrate = frequency + 100 \n",
    "    num_frames = int(bitrate * length)\n",
    "    rest_frames = num_frames % bitrate \n",
    "    \n",
    "    #generate waves \n",
    "    for j in range(num_frames):\n",
    "        wavedata += chr(int(math.sin(j / ((bitrate / frequency) / math.pi)) * 127 + 128))\n",
    "    for j in range(rest_frames):\n",
    "        wavedata += chr(128)\n",
    "\n",
    "print(len(wavedata))\n",
    "\n",
    "# Now play wavedata\n",
    "stream = p.open(format=p.get_format_from_width(1), channels=1, rate=bitrate, output=True)\n",
    "stream.write(wavedata)\n",
    "stream.stop_stream()\n",
    "stream.close()\n",
    "p.terminate()"
   ]
  },
  {
   "cell_type": "markdown",
   "metadata": {},
   "source": [
    "# Receiver"
   ]
  },
  {
   "cell_type": "markdown",
   "metadata": {},
   "source": [
    "## Start Recording Audio\n",
    "\n",
    "[Source](https://stackoverflow.com/questions/35344649/reading-input-sound-signal-using-python)"
   ]
  },
  {
   "cell_type": "code",
   "execution_count": 2,
   "metadata": {},
   "outputs": [],
   "source": [
    "# CHUNK = 1024\n",
    "# FORMAT = pyaudio.paInt16\n",
    "# CHANNELS = 2\n",
    "# RATE = 44100\n",
    "# RECORD_SECONDS = 5\n",
    "# WAVE_OUTPUT_FILENAME = \"output.wav\"\n",
    "\n",
    "# p = pyaudio.PyAudio()\n",
    "\n",
    "# stream = p.open(format=FORMAT,\n",
    "#                 channels=CHANNELS,\n",
    "#                 rate=RATE,\n",
    "#                 input=True,\n",
    "#                 frames_per_buffer=CHUNK)\n",
    "\n",
    "# print(\"* recording\")\n",
    "\n",
    "# frames = []\n",
    "\n",
    "# for i in range(0, int(RATE / CHUNK * RECORD_SECONDS)):\n",
    "#     data = stream.read(CHUNK)\n",
    "#     frames.append(data)\n",
    "\n",
    "# print(\"* done recording\")\n",
    "\n",
    "# stream.stop_stream()\n",
    "# stream.close()\n",
    "# p.terminate()\n",
    "\n",
    "# wf = wave.open(WAVE_OUTPUT_FILENAME, 'wb')\n",
    "# wf.setnchannels(CHANNELS)\n",
    "# wf.setsampwidth(p.get_sample_size(FORMAT))\n",
    "# wf.setframerate(RATE)\n",
    "# wf.writeframes(b''.join(frames))\n",
    "# wf.close()\n",
    "\n",
    "\n",
    "# Listen for sinusoid that means \"start of char-freq table\"\n",
    "\n"
   ]
  },
  {
   "cell_type": "markdown",
   "metadata": {},
   "source": [
    "## Receive Char-Freq Table\n",
    "\n",
    "We'll need some already-known way to transfer this. "
   ]
  },
  {
   "cell_type": "code",
   "execution_count": null,
   "metadata": {},
   "outputs": [],
   "source": []
  },
  {
   "cell_type": "markdown",
   "metadata": {},
   "source": [
    "## Decoding \n",
    "\n",
    "Listen for chunk, receive it, then decode and write to file **asynchronously** while listening to next chunk. "
   ]
  },
  {
   "cell_type": "markdown",
   "metadata": {},
   "source": [
    "### Listen for Chunk"
   ]
  },
  {
   "cell_type": "code",
   "execution_count": null,
   "metadata": {},
   "outputs": [],
   "source": []
  },
  {
   "cell_type": "markdown",
   "metadata": {},
   "source": [
    "### Decode Chunk\n",
    "\n",
    "Use ECC. The goal is to do a one-pass over the file so we need to have *lots* of redundancy and capability to recover from errors. "
   ]
  },
  {
   "cell_type": "code",
   "execution_count": null,
   "metadata": {},
   "outputs": [],
   "source": []
  },
  {
   "cell_type": "markdown",
   "metadata": {},
   "source": [
    "### Write to File"
   ]
  },
  {
   "cell_type": "code",
   "execution_count": null,
   "metadata": {},
   "outputs": [],
   "source": []
  },
  {
   "cell_type": "code",
   "execution_count": null,
   "metadata": {},
   "outputs": [],
   "source": []
  }
 ],
 "metadata": {
  "kernelspec": {
   "display_name": "Python 3",
   "language": "python",
   "name": "python3"
  },
  "language_info": {
   "codemirror_mode": {
    "name": "ipython",
    "version": 3
   },
   "file_extension": ".py",
   "mimetype": "text/x-python",
   "name": "python",
   "nbconvert_exporter": "python",
   "pygments_lexer": "ipython3",
   "version": "3.7.3"
  }
 },
 "nbformat": 4,
 "nbformat_minor": 2
}
