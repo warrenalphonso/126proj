{
 "cells": [
  {
   "cell_type": "code",
   "execution_count": 12,
   "metadata": {},
   "outputs": [],
   "source": [
    "import numpy as np\n",
    "import scipy.stats\n",
    "import scipy\n",
    "import matplotlib.pyplot as plt\n",
    "import math\n",
    "%matplotlib inline"
   ]
  },
  {
   "cell_type": "code",
   "execution_count": 19,
   "metadata": {},
   "outputs": [],
   "source": [
    "from string import ascii_lowercase, ascii_uppercase\n",
    "def letter_count(file):\n",
    "    with open(file) as f:\n",
    "        data = f.read()\n",
    "        total_count = len(data)\n",
    "        text = data.strip()\n",
    "        freq_dic = {}\n",
    "        for x in ascii_lowercase + ascii_uppercase + ' ':\n",
    "            freq_dic[x] = text.count(x) / total_count\n",
    "    return freq_dic"
   ]
  },
  {
   "cell_type": "code",
   "execution_count": 20,
   "metadata": {},
   "outputs": [],
   "source": [
    "from heapq import heappush, heappop, heapify\n",
    "from collections import defaultdict\n",
    "\n",
    "def HuffEncode(freq_dict):\n",
    "    \"\"\"Return a dictionary (symbols2huff) which maps keys from the input dictionary freq_dict\n",
    "       to bitstrings using a Huffman code based on the frequencies of each key\"\"\"\n",
    "    freqToLetters = []\n",
    "    huffMapSoFar = dict()\n",
    "    for key in freq_dict:\n",
    "        heappush(freqToLetters, ((freq_dict[key]), [key]))\n",
    "        huffMapSoFar[key]= \"\"\n",
    "    # Your Beautiful Code Here #\n",
    "    while len(freqToLetters) > 1:\n",
    "        smallest = heappop(freqToLetters)\n",
    "        secsmallest = heappop(freqToLetters)\n",
    "        combined = (smallest[0] + secsmallest[0], smallest[1] + secsmallest[1])\n",
    "        for symbol in smallest[1]:\n",
    "            huffMapSoFar[symbol] = \"0\" + huffMapSoFar[symbol]\n",
    "        for symbol in secsmallest[1]:\n",
    "            huffMapSoFar[symbol] = \"1\" + huffMapSoFar[symbol]\n",
    "        heappush(freqToLetters, combined)\n",
    "    return huffMapSoFar\n",
    "        \n",
    "\n",
    "def encode_string(string, flip2huff,n):\n",
    "    \"\"\"Return a bitstring encoded according to the Huffman code defined in the dictionary letters2huff.\n",
    "    We assume the length of string divides n\"\"\"\n",
    "    \n",
    "    # Your Beautiful Code Here    \n",
    "    coded_bit_string = ''\n",
    "    for i in range(len(string)//n):\n",
    "        coded_bit_string += flip2huff[string[n*i:n*(i+1)]]\n",
    "    return coded_bit_string"
   ]
  },
  {
   "cell_type": "code",
   "execution_count": 25,
   "metadata": {},
   "outputs": [
    {
     "name": "stdout",
     "output_type": "stream",
     "text": [
      "{'a': 0.06077554676396967, 'b': 0.00962051765703169, 'c': 0.018437027606743255, 'd': 0.03602698119737351, 'e': 0.09645458936584396, 'f': 0.016406714502285147, 'g': 0.015498913892478608, 'h': 0.05051368191843985, 'i': 0.05091305222084279, 'j': 0.0007020737821916785, 'k': 0.005958332261839439, 'l': 0.029687248747591464, 'm': 0.018087849693005382, 'n': 0.05594623341753468, 'o': 0.058386760858983866, 'p': 0.012088619929290698, 'q': 0.0007113686689815066, 'r': 0.045041162406148756, 's': 0.04954546454449942, 't': 0.06803733198330267, 'u': 0.019865341876780164, 'v': 0.008046583493954141, 'w': 0.017450220459223176, 'x': 0.0011497774959017294, 'y': 0.013933345127511904, 'z': 0.0007064113960269316, 'A': 0.002033101570495055, 'B': 0.0011172453921373313, 'C': 0.0006549796891232165, 'D': 0.0006249262218361057, 'E': 0.0006992853161547301, 'F': 0.0006032381526598403, 'G': 0.0004037079162381982, 'H': 0.0013564338121955732, 'I': 0.0024572582376708747, 'J': 9.57373339352289e-05, 'K': 0.00037210530115278285, 'L': 0.00022059864647858566, 'M': 0.0010125230009719354, 'N': 0.0011197240286146188, 'O': 0.0005065713300456286, 'P': 0.002018849410750652, 'Q': 1.0844034588132722e-05, 'R': 0.0009471489638834781, 'S': 0.0009251510651475517, 'T': 0.0021124179377682542, 'U': 8.768176538404458e-05, 'V': 0.0003457697885816034, 'W': 0.0008947877683007801, 'X': 0.00020851529365180921, 'Y': 0.0003919343929710827, 'Z': 3.346159244338097e-05, ' ': 0.1601893182541352}\n"
     ]
    }
   ],
   "source": [
    "freq_dict = letter_count(\"war_and_peace.txt\")\n",
    "print(freq_dict)"
   ]
  },
  {
   "cell_type": "code",
   "execution_count": 26,
   "metadata": {},
   "outputs": [
    {
     "name": "stdout",
     "output_type": "stream",
     "text": [
      "{'a': '1010', 'b': '1101110', 'c': '110110', 'd': '11010', 'e': '001', 'f': '110001', 'g': '100101', 'h': '0101', 'i': '0110', 'j': '0000111000', 'k': '0000110', 'l': '10011', 'm': '110011', 'n': '0111', 'o': '1000', 'p': '000010', 'q': '0000111010', 'r': '0001', 's': '0100', 't': '1011', 'u': '00000', 'v': '1100000', 'w': '110010', 'x': '1101111010', 'y': '100100', 'z': '0000111001', 'A': '110000101', 'B': '1101111000', 'C': '11011111100', 'D': '11011110111', 'E': '11011111101', 'F': '11011110110', 'G': '00001111000', 'H': '1101111111', 'I': '110111110', 'J': '1100001101100', 'K': '00001110110', 'L': '000011110011', 'M': '1100001100', 'N': '1101111001', 'O': '11000011010', 'P': '110000100', 'Q': '110000110110100', 'R': '0000111111', 'S': '0000111110', 'T': '110000111', 'U': '11000011011011', 'V': '110000110111', 'W': '0000111101', 'X': '000011110010', 'Y': '00001110111', 'Z': '110000110110101', ' ': '111'}\n"
     ]
    }
   ],
   "source": [
    "huff = HuffEncode(freq_dict)\n",
    "print(huff)"
   ]
  },
  {
   "cell_type": "code",
   "execution_count": 31,
   "metadata": {},
   "outputs": [
    {
     "name": "stdout",
     "output_type": "stream",
     "text": [
      "4.034541348458798\n"
     ]
    }
   ],
   "source": [
    "exp = 0\n",
    "for letter in huff:\n",
    "    exp += freq_dict[letter] * len(huff[letter])\n",
    "print(exp)"
   ]
  },
  {
   "cell_type": "code",
   "execution_count": null,
   "metadata": {},
   "outputs": [],
   "source": []
  }
 ],
 "metadata": {
  "kernelspec": {
   "display_name": "Python 3",
   "language": "python",
   "name": "python3"
  },
  "language_info": {
   "codemirror_mode": {
    "name": "ipython",
    "version": 3
   },
   "file_extension": ".py",
   "mimetype": "text/x-python",
   "name": "python",
   "nbconvert_exporter": "python",
   "pygments_lexer": "ipython3",
   "version": "3.6.4"
  }
 },
 "nbformat": 4,
 "nbformat_minor": 2
}
