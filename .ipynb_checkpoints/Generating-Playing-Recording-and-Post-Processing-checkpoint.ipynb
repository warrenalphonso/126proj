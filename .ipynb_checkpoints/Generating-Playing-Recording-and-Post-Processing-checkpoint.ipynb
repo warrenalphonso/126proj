{
 "cells": [
  {
   "cell_type": "code",
   "execution_count": 1,
   "metadata": {},
   "outputs": [],
   "source": [
    "%matplotlib inline \n",
    "import matplotlib.pyplot as plt\n",
    "import numpy as np\n",
    "import sounddevice as sd\n",
    "from scipy.io import wavfile \n",
    "import os"
   ]
  },
  {
   "cell_type": "markdown",
   "metadata": {},
   "source": [
    "## Generating Signal"
   ]
  },
  {
   "cell_type": "code",
   "execution_count": 3,
   "metadata": {},
   "outputs": [],
   "source": [
    "## Set parameters\n",
    "filename = \"test.txt\"\n",
    "# Frequency encodings in Hz\n",
    "low_freq = 1000\n",
    "high_freq = 5103 # Chose something that's coprime with low_freq\n",
    "\n",
    "fs = 44100 # Usually 44100 or 48000 fps \n",
    "t = .01\n",
    "max_amp = 32767 # Because of signed 16 bit integers\n"
   ]
  },
  {
   "cell_type": "code",
   "execution_count": 4,
   "metadata": {},
   "outputs": [
    {
     "name": "stdout",
     "output_type": "stream",
     "text": [
      "Contents as string:  Hello abcdefghijklmnopqrstuvwxyz\n",
      "\n",
      "Bit representation:  010010000110010101101100011011000110111100100000011000010110001001100011011001000110010101100110011001110110100001101001011010100110101101101100011011010110111001101111011100000111000101110010011100110111010001110101011101100111011101111000011110010111101000001010\n",
      "Wave shape:  (186984,)\n"
     ]
    }
   ],
   "source": [
    "#Import text and store as a string\n",
    "contents = \"\" \n",
    "with open(filename, \"r\") as f: \n",
    "    contents = f.read() \n",
    "print(\"Contents as string: \", contents)\n",
    "\n",
    "### Convert contents to binary string bin_contents \n",
    "bin_contents = \"\".join(format(ord(c), '08b') for c in contents) #08b means 0 pad and 8 length\n",
    "print(\"Bit representation: \", bin_contents)\n",
    "\n",
    "##Creating the \"Sandwiche\" Signal##\n",
    "\n",
    "Flag =  '11100111'*10\n",
    "bin_contents = Flag+bin_contents+Flag\n",
    "\n",
    "# Generate wave \n",
    "wave = [] \n",
    "for b in bin_contents:\n",
    "    if b == '0':\n",
    "        freq = low_freq \n",
    "    elif b == '1':\n",
    "        freq = high_freq \n",
    "    else:\n",
    "        print(b)    \n",
    "    waveform = np.sin(2 * np.pi * freq * np.arange(t * fs) / fs) \n",
    "    waveform_ints = np.int16(max_amp * waveform)\n",
    "    wave = np.append(wave, waveform_ints)\n",
    "print(\"Wave shape: \", np.shape(wave))\n"
   ]
  },
  {
   "cell_type": "code",
   "execution_count": 5,
   "metadata": {},
   "outputs": [],
   "source": [
    "### DOESNT WORK ON MACOS I THINK - CHANGE TO SD.PLAY\n",
    "wavfile.write('first_gen.wav', fs, wave.astype(np.dtype('i2')))\n",
    "# os.system(\"aplay first_gen.wav\")\n"
   ]
  },
  {
   "cell_type": "markdown",
   "metadata": {},
   "source": [
    "## Recording"
   ]
  },
  {
   "cell_type": "code",
   "execution_count": 6,
   "metadata": {},
   "outputs": [],
   "source": [
    "## Set parameters \n",
    "\n",
    "fs = 44100 # Usually 44100 or 48000 fps \n",
    "duration = 5  # seconds\n",
    "t = 0.01 # How many seconds each frequency plays for \n",
    "filename = 'first_gen.wav'\n",
    "\n",
    "freq_0 = 1000 \n",
    "freq_1 = 5103 \n",
    "freq_error = 50"
   ]
  },
  {
   "cell_type": "code",
   "execution_count": 5,
   "metadata": {},
   "outputs": [
    {
     "name": "stdout",
     "output_type": "stream",
     "text": [
      "Shape of recording data:  (195804, 1)\n",
      "Done recording\n"
     ]
    }
   ],
   "source": [
    "# I'm using channels=1, most audio recording uses 2 channels because \n",
    "# of two headphone speakers (I think) but I think 1 channel is better \n",
    "# for plotting data\n",
    "\n",
    "## JIANSHU, for testing type my_recording = sd play and rec here \n",
    "\n",
    "# fs, data = wavfile.read(filename)\n",
    "# my_recording = sd.playrec(data,samplerate = 44100, channels=1,blocking=False)\n",
    "# sd.wait()\n",
    "# sd.stop()\n",
    "\n",
    "\n",
    "my_recording = sd.rec(int(duration * fs), samplerate=fs, channels=1)\n",
    "sd.wait()\n",
    "sd.stop()\n",
    "\n",
    "print(\"Shape of recording data: \", np.shape(my_recording))\n",
    "\n",
    "print('Done recording')\n",
    "\n",
    "wavfile.write(filename, fs, my_recording)\n",
    "\n",
    "# Make sure `python -m sounddevice` or `sd.query_devices()` says\n",
    "# you're connected to both *in* and *out* channels. "
   ]
  },
  {
   "cell_type": "markdown",
   "metadata": {},
   "source": [
    "## Post-Processing"
   ]
  },
  {
   "cell_type": "code",
   "execution_count": 8,
   "metadata": {},
   "outputs": [
    {
     "name": "stdout",
     "output_type": "stream",
     "text": [
      "Sample rate (should be same as fs):  44100\n",
      "Data shape (should be 1-dimensional):  (195804,)\n"
     ]
    }
   ],
   "source": [
    "# # Read the file - we'll have to change this to do while recording \n",
    "# # SOURCE: https://pythondsp.rob-elder.com/loading-wav-files-and-showing-frequency-response/\n",
    "sample_rate, data = wavfile.read(\"rec.wav\") \n",
    "my_recording = data\n",
    "print(\"Sample rate (should be same as fs): \", sample_rate)\n",
    "print(\"Data shape (should be 1-dimensional): \", data.shape)\n",
    "samples = data.shape[0]"
   ]
  },
  {
   "cell_type": "code",
   "execution_count": 9,
   "metadata": {},
   "outputs": [
    {
     "data": {
      "text/plain": [
       "(195804,)"
      ]
     },
     "execution_count": 9,
     "metadata": {},
     "output_type": "execute_result"
    }
   ],
   "source": [
    "my_recording.shape"
   ]
  },
  {
   "cell_type": "code",
   "execution_count": 10,
   "metadata": {},
   "outputs": [],
   "source": [
    "# plt.title(\"First 200 samples\")\n",
    "# plt.plot(my_recording[:1000])\n",
    "# plt.show()"
   ]
  },
  {
   "cell_type": "code",
   "execution_count": 11,
   "metadata": {},
   "outputs": [
    {
     "data": {
      "image/png": "[encoded data removed]",
      "text/plain": [
       "<Figure size 432x288 with 1 Axes>"
      ]
     },
     "metadata": {
      "needs_background": "light"
     },
     "output_type": "display_data"
    },
    {
     "name": "stdout",
     "output_type": "stream",
     "text": [
      "[11025.  11245.5 11466.  11686.5 11907.  12127.5 12348.  12568.5 12789.\n",
      " 13009.5]\n"
     ]
    },
    {
     "data": {
      "image/png": "[encoded data removed]",
      "text/plain": [
       "<Figure size 432x288 with 1 Axes>"
      ]
     },
     "metadata": {
      "needs_background": "light"
     },
     "output_type": "display_data"
    }
   ],
   "source": [
    "### This figures out frequencies for the *WHOLE* recording. \n",
    "sample_rate = 44100\n",
    "data_fft = np.fft.fft(my_recording[:200])\n",
    "fft_abs = abs(data_fft) \n",
    "freqs = np.fft.fftfreq(200, 1/sample_rate) \n",
    "plt.title(\"Absolute value of FFT plotted against freqs\")\n",
    "plt.plot(freqs, fft_abs)\n",
    "plt.show() \n",
    "\n",
    "print(freqs[50:60])\n",
    "\n",
    "# Let's use a better scale: the log scale which shows freqs in Hertz \n",
    "plt.xlim([10, sample_rate/2]) \n",
    "plt.xscale('log')\n",
    "plt.grid(True)\n",
    "plt.xlabel('Frequency (Hz)')\n",
    "plt.title('Hertz scale')\n",
    "# The original example used freqs[:int(freqs.size/2)] but I don't \n",
    "# think it matters\n",
    "plt.plot(freqs, fft_abs)\n",
    "plt.show()"
   ]
  },
  {
   "cell_type": "code",
   "execution_count": 17,
   "metadata": {
    "scrolled": true
   },
   "outputs": [],
   "source": [
    "# print('Mode: ', freqs[np.argmax(fft_abs)])\n",
    "# print('Index of mode: ', np.argmax(fft_abs))\n",
    "\n",
    "# # We have to multiply by 5 to get correct index - I'm not sure why but below you can see that the mode index \n",
    "# # is 5 times the mode \n",
    "# print('Mass of 0 signal: ', max(fft_abs[(5 * freq_0 - freq_error):(5 * freq_0 + freq_error)]))\n",
    "# print('Mass of 1 signal: ', max(fft_abs[(5 * freq_1 - freq_error):(5*freq_1 + freq_error)]))"
   ]
  },
  {
   "cell_type": "code",
   "execution_count": 13,
   "metadata": {
    "scrolled": false
   },
   "outputs": [
    {
     "name": "stdout",
     "output_type": "stream",
     "text": [
      "Length of each chunks:  441\n",
      "Number of chunks (should be duration / t):  444\n"
     ]
    },
    {
     "data": {
      "image/png": "[encoded data removed]",
      "text/plain": [
       "<Figure size 432x288 with 1 Axes>"
      ]
     },
     "metadata": {
      "needs_background": "light"
     },
     "output_type": "display_data"
    }
   ],
   "source": [
    "### This figures out frequencies for every interval of t seconds. \n",
    "### This is what we use to decode but it has to be perfectly \n",
    "### aligned with when the first signal starts. \n",
    "\n",
    "samp_p_chunk = int(t * fs)\n",
    "start = int(0 * fs) # Index of frame when signal starts\n",
    "# end = int(duration * fs) # Index of frame when signal stops\n",
    "end = len(data)\n",
    "chunks = [data[i:i + samp_p_chunk] \n",
    "          for i in range(start, end, samp_p_chunk)]\n",
    "print('Length of each chunks: ', samp_p_chunk)\n",
    "print('Number of chunks (should be duration / t): ', len(chunks)) \n",
    "\n",
    "result_bit_string = \"\"\n",
    "for chunk in chunks: \n",
    "    c_fft = np.fft.fft(chunk)\n",
    "    c_fft_abs = abs(c_fft)\n",
    "    \n",
    "    c_samples = chunk.shape[0]\n",
    "    c_freqs = np.fft.fftfreq(c_samples, 1/sample_rate)\n",
    "#     print(c_freqs)\n",
    "        \n",
    "    # Get maximum frequency from fft graph \n",
    "#     fig = plt.figure(figsize=(12,10))\n",
    "#     plt.plot(c_freqs,c_fft_abs)\n",
    "#     plt.xlim(0,10000)\n",
    "    \n",
    "    ### Here's a potential problem: the c_freqs array here has each entry differ by 100\n",
    "    # c_freqs[50:60] is [5000, 5100, 5200, 5300, 5400, 5500, 5600, 5700, 5800, 5900] but \n",
    "    # in the whole sample (ie the freqs array 2 cells above) it differs by .2 \n",
    "    mass_0 = max(c_fft_abs[9:12])\n",
    "#     mass_1 = max(c_fft_abs[12:15]) \n",
    "    mass_1 = max(c_fft_abs[50:53])\n",
    "#     print(mass_0 > mass_1)\n",
    "\n",
    "#NEED TO ADD THRESHOLD \n",
    "    if mass_0 > mass_1: \n",
    "        result_bit_string += '0'\n",
    "    else: \n",
    "        result_bit_string += '1'\n",
    "\n",
    "\n",
    "#     print(len(c_fft_abs))\n",
    "#     print(len(c_freqs))\n",
    "#     print(5 * freq_0 - freq_error)\n",
    "#     print(5 * freq_0 + freq_error)\n",
    "#     mass_0 = max(c_fft_abs[(5 * freq_0 - freq_error):(5 * freq_0 + freq_error)])\n",
    "#     mass_1 = max(c_fft_abs[(5 * freq_1 - freq_error):(5 * freq_1 + freq_error)]) \n",
    "    \n",
    "#     FFT for first chunk\n",
    "    if chunk.all() == chunks[0].all():\n",
    "        # plt.xlim([10, sample_rate/2]) \n",
    "        plt.xscale('log')\n",
    "        plt.grid(True)\n",
    "        plt.xlabel('Frequency (Hz)')\n",
    "        plt.title('Hertz scale')\n",
    "        plt.plot(c_freqs, c_fft_abs)"
   ]
  },
  {
   "cell_type": "code",
   "execution_count": 14,
   "metadata": {},
   "outputs": [
    {
     "data": {
      "image/png": "[encoded data removed]",
      "text/plain": [
       "<Figure size 432x288 with 1 Axes>"
      ]
     },
     "metadata": {
      "needs_background": "light"
     },
     "output_type": "display_data"
    }
   ],
   "source": [
    "# Sanity check: plots first chunk so we know it captures a whole signal\n",
    "plt.title(\"First chunk (Make sure this is all one frequency)\")\n",
    "plt.plot(chunks[0])\n",
    "plt.show()"
   ]
  },
  {
   "cell_type": "code",
   "execution_count": 15,
   "metadata": {},
   "outputs": [
    {
     "name": "stdout",
     "output_type": "stream",
     "text": [
      "444\n",
      "Recorded bit string:  111111111111111111111111111111111111111111111111111111111111111111111110111111110011111111111111111100011101111111111001111110011111111111000001110011111100110111001111110111011101111111011101110111111111100111111111111111111111111111111001111111111111110111111111111001011110111111111101111011111111110111111111111111011111111111111111111111111111111000111111111111111111111111111111111111111111111111111111111111111111111111111111111111111111\n",
      "ÿÿÿÿÿÿÿÿþÿ?ÿñßùùÿÁÏÍÏÝßÝßùÿÿÿùÿýÿåïýïýÿýÿÿÿþ?ÿÿÿÿÿÿÿÿÿÿ\u000f\n"
     ]
    }
   ],
   "source": [
    "# chr(int(str(StrValue),2))\n",
    "\n",
    "# assert(len(result_bit_string) % 8 == 0)\n",
    "print(len(result_bit_string))\n",
    "print(\"Recorded bit string: \", result_bit_string)\n",
    "\n",
    "decoded_string = \"\" \n",
    "for i in range(0, len(result_bit_string), 8):\n",
    "    decoded_string += chr(int(result_bit_string[i:i+8], 2))\n",
    "print(decoded_string)"
   ]
  },
  {
   "cell_type": "code",
   "execution_count": null,
   "metadata": {},
   "outputs": [],
   "source": []
  }
 ],
 "metadata": {
  "kernelspec": {
   "display_name": "Python 3",
   "language": "python",
   "name": "python3"
  },
  "language_info": {
   "codemirror_mode": {
    "name": "ipython",
    "version": 3
   },
   "file_extension": ".py",
   "mimetype": "text/x-python",
   "name": "python",
   "nbconvert_exporter": "python",
   "pygments_lexer": "ipython3",
   "version": "3.7.3"
  }
 },
 "nbformat": 4,
 "nbformat_minor": 2
}
