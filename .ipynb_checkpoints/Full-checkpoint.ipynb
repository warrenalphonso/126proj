{
 "cells": [
  {
   "cell_type": "code",
   "execution_count": 174,
   "metadata": {},
   "outputs": [],
   "source": [
    "%matplotlib inline \n",
    "import matplotlib.pyplot as plt\n",
    "import numpy as np\n",
    "import sounddevice as sd\n",
    "from scipy.io import wavfile \n",
    "import os"
   ]
  },
  {
   "cell_type": "code",
   "execution_count": 194,
   "metadata": {},
   "outputs": [],
   "source": [
    "## Set parameters\n",
    "text_filename = \"test.txt\"\n",
    "audio_filename = \"new2.wav\"\n",
    "\n",
    "# Frequency encodings in Hz\n",
    "low_freq = 512\n",
    "high_freq = 5103 # Chose something that's coprime with low_freq 5103\n",
    "gold_freq = 2591 #4375\n",
    "gold_freq_2 = 1331\n",
    "\n",
    "fs = 44100 # Usually 44100 or 48000 fps \n",
    "t = 0.01\n",
    "max_amp = 32767 # Because of signed 16 bit integers"
   ]
  },
  {
   "cell_type": "markdown",
   "metadata": {},
   "source": [
    "## Generating Signal"
   ]
  },
  {
   "cell_type": "code",
   "execution_count": 195,
   "metadata": {},
   "outputs": [
    {
     "name": "stdout",
     "output_type": "stream",
     "text": [
      "Contents as string:  Hello abcdefghijklmnopqrstuvwxyz\n",
      "\n",
      "Bit representation:  22222222222222222222222222222222222222220100100001100101011011000110110001101111001000000110000101100010011000110110010001100101011001100110011101101000011010010110101001101011011011000110110101101110011011110111000001110001011100100111001101110100011101010111011001110111011110000111100101111010000010102222222222222222222222222222222222222222\n",
      "Time to send:  3.44 seconds\n",
      "Wave shape:  (151704,)\n"
     ]
    }
   ],
   "source": [
    "### Import text and store as a string\n",
    "contents = \"\" \n",
    "with open(text_filename, \"r\") as f: \n",
    "    contents = f.read() \n",
    "print(\"Contents as string: \", contents)\n",
    "\n",
    "### Convert contents to binary string bin_contents \n",
    "# REPLACE WITH HUFFMAN\n",
    "bin_contents = \"\".join(format(ord(c), '08b') for c in contents) #08b means 0 pad and 8 length\n",
    "\n",
    "### Creating the \"Sandwiche\" Signal##\n",
    "Flag =  '22222222'*5\n",
    "bin_contents = Flag + bin_contents + Flag\n",
    "\n",
    "print(\"Bit representation: \", bin_contents,)\n",
    "print(\"Time to send: \", len(bin_contents) * t, \"seconds\")\n",
    "\n",
    "# Generate wave \n",
    "wave = [] \n",
    "for b in bin_contents:\n",
    "    if b == '0':\n",
    "        freq = low_freq \n",
    "    elif b == '1':\n",
    "        freq = high_freq \n",
    "    elif b == '2': \n",
    "        freq = gold_freq\n",
    "    else:\n",
    "        print('This should be 0 or 1 (or 2): ', b)    \n",
    "    waveform = np.sin(2 * np.pi * freq * np.arange(t * fs) / fs) \n",
    "    waveform_ints = np.int16(max_amp * waveform)\n",
    "    wave = np.append(wave, waveform_ints)\n",
    "print(\"Wave shape: \", np.shape(wave))"
   ]
  },
  {
   "cell_type": "code",
   "execution_count": 196,
   "metadata": {},
   "outputs": [],
   "source": [
    "wavfile.write(audio_filename, fs, wave.astype(np.dtype('i2')))"
   ]
  },
  {
   "cell_type": "code",
   "execution_count": 197,
   "metadata": {},
   "outputs": [
    {
     "data": {
      "text/plain": [
       "0"
      ]
     },
     "execution_count": 197,
     "metadata": {},
     "output_type": "execute_result"
    }
   ],
   "source": [
    "### DOESNT WORK ON MACOS I THINK - CHANGE TO SD.PLAY\n",
    "os.system(\"aplay {}\".format(audio_filename))"
   ]
  },
  {
   "cell_type": "markdown",
   "metadata": {},
   "source": [
    "## Recording "
   ]
  },
  {
   "cell_type": "code",
   "execution_count": 4,
   "metadata": {},
   "outputs": [],
   "source": [
    "# Set parameters \n",
    "duration = 5 # seconds "
   ]
  },
  {
   "cell_type": "code",
   "execution_count": 6,
   "metadata": {},
   "outputs": [
    {
     "name": "stdout",
     "output_type": "stream",
     "text": [
      "Shape of recording data:  (220500, 1)\n",
      "Done recording\n"
     ]
    }
   ],
   "source": [
    "# I'm using channels=1, most audio recording uses 2 channels because \n",
    "# of two headphone speakers (I think) but I think 1 channel is better \n",
    "# for plotting data\n",
    "\n",
    "# my_recording = sd.rec(int(duration * fs), samplerate=fs, channels=1)\n",
    "# sd.wait()\n",
    "# sd.stop()\n",
    "\n",
    "print(\"Shape of recording data: \", np.shape(my_recording))\n",
    "\n",
    "print('Done recording')\n",
    "\n",
    "wavfile.write(audio_filename, fs, my_recording)\n",
    "\n",
    "# Make sure `python -m sounddevice` or `sd.query_devices()` says\n",
    "# you're connected to both *in* and *out* channels. "
   ]
  },
  {
   "cell_type": "markdown",
   "metadata": {},
   "source": [
    "## Post-Processing"
   ]
  },
  {
   "cell_type": "code",
   "execution_count": 166,
   "metadata": {},
   "outputs": [
    {
     "name": "stdout",
     "output_type": "stream",
     "text": [
      "Sample rate (should be same as fs):  44100\n",
      "Data shape (should be 1-dimensional):  (220500,)\n"
     ]
    }
   ],
   "source": [
    "# Read the file - we'll have to change this to do while recording \n",
    "# SOURCE: https://pythondsp.rob-elder.com/loading-wav-files-and-showing-frequency-response/\n",
    "sample_rate, data = wavfile.read(audio_filename) \n",
    "print(\"Sample rate (should be same as fs): \", sample_rate)\n",
    "print(\"Data shape (should be 1-dimensional): \", data.shape)\n",
    "samples = data.shape[0]"
   ]
  },
  {
   "cell_type": "code",
   "execution_count": 167,
   "metadata": {},
   "outputs": [
    {
     "data": {
      "image/png": "[encoded data removed]",
      "text/plain": [
       "<Figure size 432x288 with 1 Axes>"
      ]
     },
     "metadata": {
      "needs_background": "light"
     },
     "output_type": "display_data"
    }
   ],
   "source": [
    "# Show first 200 samples \n",
    "plt.title(\"First 200 samples\")\n",
    "plt.plot(data[:1000])\n",
    "plt.show()"
   ]
  },
  {
   "cell_type": "code",
   "execution_count": 168,
   "metadata": {},
   "outputs": [
    {
     "data": {
      "image/png": "[encoded data removed]",
      "text/plain": [
       "<Figure size 432x288 with 1 Axes>"
      ]
     },
     "metadata": {
      "needs_background": "light"
     },
     "output_type": "display_data"
    },
    {
     "data": {
      "image/png": "[encoded data removed]",
      "text/plain": [
       "<Figure size 432x288 with 1 Axes>"
      ]
     },
     "metadata": {
      "needs_background": "light"
     },
     "output_type": "display_data"
    }
   ],
   "source": [
    "### This figures out frequencies for the *WHOLE* recording. \n",
    "\n",
    "data_fft = np.fft.fft(data)\n",
    "fft_abs = abs(data_fft) \n",
    "freqs = np.fft.fftfreq(len(data), 1/fs)\n",
    "plt.title(\"Absolute value of FFT plotted against freqs\")\n",
    "plt.plot(freqs, fft_abs)\n",
    "plt.show() \n",
    "\n",
    "# Let's use a better scale: the log scale which shows freqs in Hertz \n",
    "plt.xlim([10, sample_rate/2]) \n",
    "plt.xscale('log')\n",
    "plt.grid(True)\n",
    "plt.xlabel('Frequency (Hz)')\n",
    "plt.title('Hertz scale')\n",
    "# The original example used freqs[:int(freqs.size/2)] but I don't \n",
    "# think it matters\n",
    "plt.plot(freqs, fft_abs)\n",
    "plt.show()"
   ]
  },
  {
   "cell_type": "markdown",
   "metadata": {},
   "source": [
    "### Aligning to .01 seconds"
   ]
  },
  {
   "cell_type": "markdown",
   "metadata": {},
   "source": [
    "We start recording, **then start playing**, so that aligning should only get rid of noise. Our entire signal should be preserved. "
   ]
  },
  {
   "cell_type": "code",
   "execution_count": 169,
   "metadata": {},
   "outputs": [],
   "source": [
    "# Set parameters \n",
    "threshold_diff = 0\n",
    "samp_per_chunk = int(t * fs) \n",
    "\n",
    "# Keeps shifting until we find a different in fft energy that meets \n",
    "# the threshold_diff\n",
    "def find_start_index():\n",
    "    start_index = 0\n",
    "    highest_diff = 0\n",
    "    end_index = 0\n",
    "    for i in range(len(data)):\n",
    "        # Compute fft for a chunk starting at the i'th sample\n",
    "        chunk_fft = np.fft.fft(data[i:i+samp_per_chunk])\n",
    "        if len(chunk_fft) < 441: \n",
    "            return 0\n",
    "        \n",
    "        chunk_fft_abs = abs(chunk_fft)\n",
    "        \n",
    "        # Compute mass of fft of 2 signal and then make sure it's higher than\n",
    "        # the threshold_diff of the next highest thing\n",
    "#         mass_0 = max(fft_abs[4:7])\n",
    "#         mass_1 = max(fft_abs[20:23]) \n",
    "        mass_2 = max(chunk_fft_abs[42:45])\n",
    "        chunk_fft_abs[42] = 0\n",
    "        chunk_fft_abs[43] = 0 \n",
    "        chunk_fft_abs[44] = 0 \n",
    "        other_highest = max(chunk_fft_abs) \n",
    "        \n",
    "        if start_index == 0 and abs(mass_2 - other_highest) > threshold_diff:\n",
    "            start_index = i \n",
    "            highest_diff = abs(mass_2 - other_highest)\n",
    "        if start_index != 0 and abs(mass_2 - other_highest) >= highest_diff:\n",
    "            end_index = i\n",
    "            highest_diff = abs(mass_2 - other_highest)\n",
    "        if start_index != 0 and abs(mass_2 - other_highest) < highest_diff: # diff is decreasing so we were at max correlation  \n",
    "            return end_index\n",
    "#         if abs(mass_0 - mass_1) > threshold_diff:\n",
    "#             return i"
   ]
  },
  {
   "cell_type": "code",
   "execution_count": 170,
   "metadata": {},
   "outputs": [
    {
     "name": "stdout",
     "output_type": "stream",
     "text": [
      "Starting index:  1\n",
      "Previous length:  220500\n",
      "After length:  220499\n"
     ]
    }
   ],
   "source": [
    "starting_index = find_start_index()\n",
    "\n",
    "# Change data to reflect accurate starting index \n",
    "print('Starting index: ', starting_index)\n",
    "print('Previous length: ', len(data))\n",
    "data = data[starting_index:]\n",
    "print('After length: ', len(data))"
   ]
  },
  {
   "cell_type": "code",
   "execution_count": 171,
   "metadata": {},
   "outputs": [
    {
     "name": "stdout",
     "output_type": "stream",
     "text": [
      "Length of each chunks:  441\n",
      "Number of chunks (should be duration / t):  500\n",
      "Make sure 0 bit freq is in between this:  [400. 500. 600.]\n",
      "Make sure 1 bit freq is in between this:  [2000. 2100. 2200.]\n",
      "None worked:  0.11419636 0.010618747 0.006069666\n",
      "None worked:  0.015949536 0.0052878065 0.0024832415\n",
      "None worked:  0.039853003 0.03338511 0.007650914\n",
      "None worked:  0.047422484 0.0061048637 0.0009928657\n",
      "None worked:  0.09386014 0.01809873 0.0046894313\n",
      "None worked:  0.08047153 0.007545698 0.0033262456\n",
      "None worked:  0.076023035 0.010476093 0.0055448995\n",
      "None worked:  0.112042114 0.017447023 0.008904872\n",
      "None worked:  0.15090396 0.027933083 0.011047842\n",
      "None worked:  0.19426136 0.038763817 0.018082004\n",
      "None worked:  0.19974363 0.036832977 0.020453097\n",
      "None worked:  0.0725994 0.011184764 0.0032043708\n",
      "None worked:  0.12579612 0.028920604 0.013560746\n",
      "None worked:  0.18695553 0.030256204 0.017298207\n",
      "None worked:  0.15927148 0.028127927 0.012087849\n",
      "None worked:  0.08517364 0.0141110215 0.009012197\n",
      "None worked:  0.04760058 0.004321242 0.002130429\n",
      "None worked:  0.16082819 0.020100277 0.0094769085\n",
      "None worked:  0.12507948 0.025095683 0.012316518\n",
      "None worked:  0.14853196 0.02718346 0.013668425\n",
      "None worked:  0.108098686 0.019624718 0.00881344\n",
      "None worked:  0.08483991 0.013856718 0.004362857\n",
      "None worked:  0.1489283 0.018128373 0.009277954\n",
      "None worked:  0.1063388 0.022020029 0.011049805\n",
      "None worked:  0.14640442 0.030686917 0.015889868\n",
      "None worked:  0.21642707 0.031991698 0.014551883\n",
      "None worked:  0.10964663 0.01064266 0.0040994994\n",
      "None worked:  0.08907583 0.014790057 0.0058013634\n",
      "None worked:  0.13042177 0.0119252885 0.0062940805\n",
      "None worked:  0.15807019 0.021752892 0.011521835\n",
      "None worked:  0.25050762 0.048595447 0.023026435\n",
      "None worked:  0.2796251 0.05838147 0.026644679\n",
      "None worked:  0.13415945 0.019988399 0.0086739035\n",
      "None worked:  0.06913686 0.012673269 0.0044694277\n",
      "None worked:  0.103512816 0.017177738 0.0066000028\n",
      "None worked:  0.041091956 0.007921783 0.0029852195\n",
      "None worked:  0.05525657 0.003989175 0.0024156983\n",
      "None worked:  0.113379136 0.009629812 0.005614326\n",
      "None worked:  0.034683682 0.011650743 0.006746265\n",
      "None worked:  0.03771114 0.014339104 0.003552132\n",
      "None worked:  0.08772591 0.021118436 0.011603262\n",
      "None worked:  0.08047449 0.021687351 0.010108932\n",
      "None worked:  0.1054445 0.012798967 0.0031014893\n",
      "None worked:  0.034434654 0.019248316 0.0072497344\n",
      "None worked:  0.07644614 0.010659883 0.008647459\n",
      "None worked:  0.08477474 0.030343484 0.009838564\n",
      "None worked:  0.08436101 0.017821206 0.01440888\n",
      "None worked:  0.09398447 0.006200028 0.0020069845\n",
      "None worked:  0.105768844 0.023505667 0.0081463335\n",
      "None worked:  0.23056066 0.027737346 0.013635122\n",
      "None worked:  0.20564017 0.027233398 0.014453313\n",
      "None worked:  0.11913504 0.016307704 0.012372206\n",
      "None worked:  0.072248824 0.01921004 0.004214111\n",
      "None worked:  0.09925851 0.010922974 0.002694843\n",
      "None worked:  0.18039466 0.03245202 0.013855645\n",
      "None worked:  0.13871036 0.02722032 0.013072323\n",
      "None worked:  0.13999137 0.028912298 0.01549928\n",
      "None worked:  0.20408458 0.033634067 0.01720149\n",
      "None worked:  0.12659615 0.025759503 0.0116599975\n",
      "None worked:  0.17067936 0.018622117 0.09330881\n",
      "20.875513\n",
      "20.999159\n",
      "21.689463\n",
      "21.660892\n",
      "22.311405\n",
      "21.946726\n",
      "22.954607\n",
      "23.316193\n",
      "25.397556\n",
      "21.528416\n",
      "22.25661\n",
      "20.726828\n",
      "20.55862\n",
      "21.843468\n",
      "22.4421\n",
      "20.100437\n",
      "20.70448\n",
      "21.052174\n",
      "20.820955\n",
      "23.417595\n",
      "20.961853\n",
      "20.381351\n",
      "20.43887\n",
      "21.587126\n",
      "20.943327\n",
      "21.527012\n",
      "21.09041\n",
      "20.416313\n",
      "None worked:  2.4490793 4.025211 4.3897257\n",
      "None worked:  4.9859185 4.193874 0.34292534\n",
      "None worked:  2.1724052 4.542246 0.20532969\n",
      "None worked:  2.0974157 3.7460725 0.14421585\n",
      "None worked:  2.6723478 4.465206 0.20311871\n",
      "None worked:  2.2674255 4.9148 0.27372038\n",
      "None worked:  2.2935798 3.9485261 0.16144224\n",
      "None worked:  2.2928784 3.7641895 0.22604653\n",
      "None worked:  2.791427 3.0781908 0.20055749\n",
      "None worked:  2.5289001 4.982471 0.2333626\n",
      "None worked:  2.2336812 4.1074567 0.22067733\n",
      "None worked:  2.1020772 4.4254055 0.17051966\n",
      "None worked:  2.300017 4.550449 0.11591066\n",
      "None worked:  3.0958881 3.9286687 0.17304772\n",
      "None worked:  2.4786236 3.6035163 0.1438211\n",
      "None worked:  1.3657876 2.0419092 0.112347275\n",
      "None worked:  1.6851286 3.1656578 0.11527809\n",
      "None worked:  0.0615414 0.13611798 4.713591\n",
      "None worked:  0.047712255 0.13875152 4.1580553\n",
      "None worked:  0.08802518 0.077829406 1.843135\n",
      "None worked:  0.10477643 0.09441024 2.2300723\n",
      "None worked:  0.14749889 0.061390825 1.624939\n",
      "None worked:  0.027757179 0.027550938 2.420834\n",
      "None worked:  0.02755387 0.016369909 2.800007\n",
      "None worked:  0.08269865 0.028267292 3.0559754\n",
      "None worked:  0.17637473 0.031352174 2.7365842\n",
      "None worked:  0.2513402 0.028403517 1.1662712\n",
      "None worked:  0.23404017 0.047399636 0.55124104\n",
      "None worked:  0.1453386 0.025099896 0.81163764\n",
      "None worked:  0.08815315 0.0068021887 0.786425\n",
      "None worked:  0.11175009 0.025633832 0.630637\n",
      "None worked:  0.1408835 0.026707906 0.78076\n",
      "None worked:  0.18198921 0.03237194 0.39255166\n",
      "None worked:  0.1592632 0.015188429 0.37471762\n",
      "None worked:  0.04164699 0.011213696 0.034958534\n",
      "None worked:  0.11122463 0.021370161 0.206111\n",
      "None worked:  0.14816338 0.032830197 0.14796662\n",
      "None worked:  0.1600281 0.02506192 0.1468188\n",
      "None worked:  0.100516394 0.0130145885 0.14235052\n",
      "None worked:  0.10526129 0.010527183 0.104813725\n",
      "None worked:  0.035516575 0.008253957 0.1960729\n",
      "None worked:  0.11083701 0.025450457 0.21957329\n",
      "None worked:  0.26724175 0.04350448 0.14472514\n",
      "None worked:  0.16881791 0.034328647 0.17151111\n",
      "None worked:  0.15035996 0.01577085 0.18315011\n",
      "None worked:  0.07282547 0.006914978 0.097936854\n",
      "None worked:  0.09792118 0.020835156 0.023193529\n",
      "None worked:  0.17599373 0.036817014 0.0701391\n",
      "None worked:  0.24708654 0.034808964 0.033624675\n",
      "None worked:  0.085679814 0.021870775 0.0629701\n",
      "None worked:  0.11873423 0.0051360745 0.029278632\n",
      "None worked:  0.16789596 0.02579873 0.025714615\n",
      "None worked:  0.11963552 0.028601825 0.03131162\n",
      "None worked:  0.058803897 0.009270573 0.04082132\n",
      "None worked:  0.04662392 0.009372226 0.05660669\n",
      "None worked:  0.08042483 0.0028217386 0.024069639\n",
      "None worked:  0.11042042 0.019259006 0.031436004\n",
      "None worked:  0.19783242 0.026748162 0.033568624\n",
      "None worked:  0.14908078 0.02247956 0.05345543\n",
      "None worked:  0.050277248 0.007348075 0.035151478\n",
      "None worked:  0.10415191 0.00947007 0.006552886\n",
      "None worked:  0.106858514 0.024132628 0.015815087\n",
      "None worked:  0.17260118 0.03315375 0.018082205\n",
      "None worked:  0.27052644 0.03902305 0.022696842\n",
      "None worked:  0.22561337 0.044380687 0.025148565\n",
      "None worked:  0.13457835 0.021942157 0.011521995\n",
      "None worked:  0.032305226 0.0031069831 0.013014367\n",
      "None worked:  0.09242181 0.022094948 0.0145516815\n",
      "None worked:  0.12893635 0.022330282 0.012237999\n",
      "None worked:  0.16258688 0.02711927 0.014732592\n",
      "None worked:  0.06734767 0.015960857 0.011236067\n",
      "None worked:  0.051905442 0.009272567 0.004053417\n",
      "None worked:  0.089698836 0.011928778 0.0063822926\n",
      "None worked:  0.051201798 0.013112247 0.006595667\n",
      "None worked:  0.06698989 0.0044726147 0.004411056\n",
      "None worked:  0.10269696 0.011547625 0.004666507\n",
      "None worked:  0.06398612 0.012872931 0.009531311\n",
      "None worked:  0.1573723 0.017685374 0.00875775\n",
      "None worked:  0.14215973 0.016316839 0.009046734\n",
      "None worked:  0.062045734 0.010284007 0.0059434627\n",
      "None worked:  0.12502062 0.01052008 0.002869667\n",
      "None worked:  0.102012224 0.011775509 0.0038583311\n",
      "None worked:  0.18446296 0.014618662 0.0035155586\n",
      "None worked:  0.0708604 0.014895194 0.0076799286\n",
      "None worked:  0.14866868 0.033169534 0.015522058\n",
      "None worked:  0.28592262 0.045184873 0.020546077\n",
      "None worked:  0.15087971 0.033900224 0.016166175\n",
      "None worked:  0.17072493 0.0030695815 0.0037748858\n",
      "None worked:  0.0468266 0.008243158 0.00423461\n",
      "None worked:  0.04682477 0.015140369 0.0050202427\n",
      "None worked:  0.1569723 0.02303083 0.01178064\n",
      "None worked:  0.17839779 0.026998004 0.013987406\n",
      "None worked:  0.1414034 0.011005106 0.006240034\n",
      "None worked:  0.12790926 0.018135004 0.0058878316\n",
      "None worked:  0.1041145 0.019637823 0.012686426\n",
      "None worked:  0.17541713 0.02283299 0.012729615\n",
      "None worked:  0.095520966 0.022306984 0.009217394\n",
      "None worked:  0.1292485 0.019423071 0.0060325353\n",
      "None worked:  0.057740726 0.0060569723 0.0019599297\n",
      "None worked:  0.1455226 0.021660965 0.01173147\n",
      "None worked:  0.12158564 0.024524758 0.009101517\n",
      "None worked:  0.07878612 0.01085865 0.006547164\n",
      "None worked:  0.13137598 0.007602648 0.003354144\n",
      "None worked:  0.11682504 0.0111730145 0.004581722\n",
      "None worked:  0.13400067 0.015952082 0.007202215\n",
      "None worked:  0.19629434 0.029859861 0.017407369\n",
      "None worked:  0.20163527 0.039316546 0.021007614\n",
      "None worked:  0.12252263 0.020561554 0.009070103\n",
      "None worked:  0.041536916 0.004370366 0.0024729238\n",
      "None worked:  0.2247561 0.010815654 0.0074140495\n"
     ]
    },
    {
     "data": {
      "image/png": "[encoded data removed]",
      "text/plain": [
       "<Figure size 432x288 with 1 Axes>"
      ]
     },
     "metadata": {
      "needs_background": "light"
     },
     "output_type": "display_data"
    }
   ],
   "source": [
    "### This figures out frequencies for every interval of t seconds. \n",
    "### This is what we use to decode but it has to be perfectly \n",
    "### aligned with when the first signal starts. \n",
    "\n",
    "end = len(data)\n",
    "chunks = [data[i:i + samp_per_chunk] \n",
    "          for i in range(starting_index, end, samp_per_chunk)]\n",
    "\n",
    "print('Length of each chunks: ', samp_per_chunk)\n",
    "print('Number of chunks (should be duration / t): ', len(chunks)) \n",
    "\n",
    "result_bit_string = \"\"\n",
    "for i in range(len(chunks)): \n",
    "    chunk = chunks[i]\n",
    "    c_fft = np.fft.fft(chunk)\n",
    "    c_fft_abs = abs(c_fft)\n",
    "    \n",
    "    c_samples = chunk.shape[0]\n",
    "    c_freqs = np.fft.fftfreq(c_samples, 1/sample_rate)\n",
    "        \n",
    "    ### Here's a potential problem: the c_freqs array here has each entry differ by 100\n",
    "    # c_freqs[50:60] is [5000, 5100, 5200, 5300, 5400, 5500, 5600, 5700, 5800, 5900] but \n",
    "    # in the whole sample (ie the freqs array 2 cells above) it differs by .2 \n",
    "    ### Testing indices \n",
    "    if i == 0:\n",
    "        mass_0_freqs = c_freqs[4:7]\n",
    "        mass_1_freqs = c_freqs[20:23]\n",
    "        print('Make sure 0 bit freq is in between this: ', mass_0_freqs)\n",
    "        print('Make sure 1 bit freq is in between this: ', mass_1_freqs)\n",
    "    \n",
    "    mass_0 = max(c_fft_abs[4:7])\n",
    "    mass_1 = max(c_fft_abs[20:23])\n",
    "    mass_2 = max(c_fft_abs[42:45])\n",
    "    \n",
    "    #NEED TO ADD THRESHOLD \n",
    "    thrsh = 5\n",
    "    if mass_2 > mass_0 and mass_2 > mass_1 and mass_2 > thrsh:\n",
    "        result_bit_string += '2' \n",
    "    elif mass_0 > mass_1 and mass_0 > thrsh: \n",
    "        result_bit_string += '0'\n",
    "    elif mass_1 > mass_0 and mass_1 > thrsh:\n",
    "        result_bit_string += '1'\n",
    "    else: \n",
    "        print('None worked: ', mass_0, mass_1, mass_2)\n",
    "    \n",
    "    if mass_2 >= 20: \n",
    "        print(mass_2)\n",
    "    # FFT for every chunk\n",
    "    plt.xscale('log')\n",
    "    plt.grid(True)\n",
    "    plt.xlabel('Frequency (Hz)')\n",
    "    plt.title('Hertz scale')\n",
    "    plt.plot(c_freqs, c_fft_abs)"
   ]
  },
  {
   "cell_type": "code",
   "execution_count": 172,
   "metadata": {},
   "outputs": [
    {
     "name": "stdout",
     "output_type": "stream",
     "text": [
      "22222222222222222222222222222222222222220100100001100101011011000110110001101111001000000110000101100010011000110110010001100101011001100110011101101000011010010110101001101011011011000110110101101110011011110111000001110001011100100111001101110100011101010111011001110111011110000111100101111010000010102222222222222222222222222222222222222222\n",
      "------------\n",
      "222222222222222222222222222222222222222221000000110110111101110110100011011100100000011000010110001001100011011001000110010101100110010011100100001101001011010100110101101101100011001011011001101110111001001110001011100100111001101101000111010101101100110111011100001111010111110000010102222222222222222222222222222222222222222222\n",
      "------------\n",
      "100000011011011110111011010001101110010000001100001011000100110001101100100011001010110011001001110010000110100101101010011010110110110001100101101100110111011100100111000101110010011100110110100011101010110110011011101110000111101011111000001010\n"
     ]
    }
   ],
   "source": [
    "### Now get rid of Gold code. Make sure to change any '2' \n",
    "### that isn't part of the Gold code section to a 1 or something \n",
    "\n",
    "# Test: \n",
    "# result_bit_string = '22222222222222222222222222222222222222010100201021010101010210101011101110012202222222222222222222'\n",
    "print(bin_contents)\n",
    "print('------------')\n",
    "print(result_bit_string)\n",
    "print('------------')\n",
    "l_result = list(result_bit_string)\n",
    "\n",
    "# Remove Gold code prefix - we already do this above\n",
    "while l_result[0] == '2':\n",
    "    l_result = l_result[1:]\n",
    "\n",
    "# Remove Gold code suffix \n",
    "i_start = 0\n",
    "two_in_row = 0 \n",
    "needed_in_row = 10\n",
    "for i in range(len(l_result)):\n",
    "    if two_in_row >= needed_in_row:\n",
    "        l_result = l_result[:i_start]\n",
    "        break\n",
    "    else:\n",
    "        if l_result[i] == '2':\n",
    "            if two_in_row == 0:\n",
    "                i_start = i \n",
    "            two_in_row += 1 \n",
    "        else: \n",
    "            two_in_row = 0\n",
    "\n",
    "# Change '2' in string to '1'\n",
    "for i in range(len(l_result)):\n",
    "    if l_result[i] == '2':\n",
    "        l_result[i] = '1'\n",
    "\n",
    "result_bit_string = \"\".join(l_result)\n",
    "print(result_bit_string)"
   ]
  },
  {
   "cell_type": "code",
   "execution_count": 173,
   "metadata": {},
   "outputs": [
    {
     "name": "stdout",
     "output_type": "stream",
     "text": [
      "·»Fä\f",
      ",Ll¬ÉÈijkle³w'\u0017'6­¸zø\n",
      "\n"
     ]
    }
   ],
   "source": [
    "### Decode result_bit_string \n",
    "\n",
    "# Huffman decode eventually \n",
    "decoded_string = \"\" \n",
    "for i in range(0, len(result_bit_string), 8):\n",
    "    decoded_string += chr(int(result_bit_string[i:i+8], 2))\n",
    "print(decoded_string)"
   ]
  },
  {
   "cell_type": "code",
   "execution_count": null,
   "metadata": {},
   "outputs": [],
   "source": []
  }
 ],
 "metadata": {
  "kernelspec": {
   "display_name": "Python 3",
   "language": "python",
   "name": "python3"
  },
  "language_info": {
   "codemirror_mode": {
    "name": "ipython",
    "version": 3
   },
   "file_extension": ".py",
   "mimetype": "text/x-python",
   "name": "python",
   "nbconvert_exporter": "python",
   "pygments_lexer": "ipython3",
   "version": "3.7.3"
  }
 },
 "nbformat": 4,
 "nbformat_minor": 2
}
