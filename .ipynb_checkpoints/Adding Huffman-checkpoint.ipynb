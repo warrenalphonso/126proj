{
 "cells": [
  {
   "cell_type": "code",
   "execution_count": 43,
   "metadata": {},
   "outputs": [],
   "source": [
    "%matplotlib inline \n",
    "import matplotlib.pyplot as plt\n",
    "import numpy as np\n",
    "import sounddevice as sd\n",
    "from scipy.io import wavfile \n",
    "import os"
   ]
  },
  {
   "cell_type": "code",
   "execution_count": 49,
   "metadata": {},
   "outputs": [],
   "source": [
    "## Set parameters\n",
    "filename = \"test.txt\"\n",
    "# Frequency encodings in Hz\n",
    "low_freq = 1000\n",
    "high_freq = 5103 # Chose something that's coprime with low_freq\n",
    "\n",
    "fs = 44100 # Usually 44100 or 48000 fps \n",
    "t = .01\n",
    "max_amp = 32767 # Because of signed 16 bit integers\n"
   ]
  },
  {
   "cell_type": "code",
   "execution_count": 45,
   "metadata": {},
   "outputs": [],
   "source": [
    "from string import ascii_lowercase, ascii_uppercase\n",
    "def letter_count(file):\n",
    "    with open(file) as f:\n",
    "        data = f.read()\n",
    "        total_count = len(data)\n",
    "        text = data.strip()\n",
    "        freq_dic = {}\n",
    "        char_set = {c for c in data}\n",
    "#         for x in ascii_lowercase + ascii_uppercase + ' ':\n",
    "        for x in char_set:\n",
    "            freq_dic[x] = text.count(x) / total_count\n",
    "    return data, freq_dic"
   ]
  },
  {
   "cell_type": "code",
   "execution_count": 46,
   "metadata": {},
   "outputs": [],
   "source": [
    "import heapq\n",
    "\n",
    "class Node:\n",
    "    def __init__(self, left=None, right=None, value=None, freq=None):\n",
    "        self.left = left\n",
    "        self.right = right\n",
    "        self.value = value\n",
    "        self.freq = freq\n",
    "        \n",
    "    def __lt__(self, other):\n",
    "        return self.freq < other.freq\n",
    "            \n",
    "def HuffEncode(freq_dict):\n",
    "    \"\"\"Return a dictionary (flips2huff) which maps keys from the input dictionary freq_dict\n",
    "       to bitstrings using a Huffman code based on the frequencies of each key\"\"\"\n",
    "    freq_heap = [Node(None, None, key, val) for key,val in freq_dict.items()]\n",
    "    heapq.heapify(freq_heap)\n",
    "    while len(freq_heap) > 1:\n",
    "        node_l = heapq.heappop(freq_heap)\n",
    "        node_r = heapq.heappop(freq_heap)\n",
    "        node_c = Node(node_l, node_r, None, node_l.freq + node_r.freq)\n",
    "        heapq.heappush(freq_heap, node_c)\n",
    "        \n",
    "    main_node = heapq.heappop(freq_heap)\n",
    "    return main_node\n",
    "\n",
    "def constructDict(huffTree):\n",
    "    bitstring_dict = {}\n",
    "    def helper(tree, s=''):\n",
    "        if tree == None:\n",
    "            return\n",
    "        if not tree.value == None:\n",
    "            bitstring_dict[tree.value] = s\n",
    "        helper(tree.left, s + \"1\")\n",
    "        helper(tree.right, s + \"0\")\n",
    "    helper(huffTree)\n",
    "    return bitstring_dict\n",
    "\n",
    "def encode_string(string, tree ,n):\n",
    "    \"\"\"Return a bitstring encoded according to the Huffman code defined in the dictionary flip2huff.\n",
    "    We assume n divides the length of string\"\"\"\n",
    "    \n",
    "    flip2huff = constructDict(tree)\n",
    "    \n",
    "    # Your Beautiful Code Here    \n",
    "    s = \"\"\n",
    "    for i in range(len(string) // n):\n",
    "        s = s + flip2huff[string[i:i + n]]\n",
    "        \n",
    "    return s\n",
    "        \n"
   ]
  },
  {
   "cell_type": "code",
   "execution_count": 47,
   "metadata": {},
   "outputs": [
    {
     "name": "stdout",
     "output_type": "stream",
     "text": [
      "<__main__.Node object at 0x12de179e8>\n",
      "{'A': '1', 'D': '011', 'C': '010', 'R': '001', 'B': '000'}\n",
      "1000001010011000010011\n",
      "ABRCDBCD\n"
     ]
    }
   ],
   "source": [
    "from heapq import heappush, heappop, heapify\n",
    "from collections import defaultdict\n",
    "\n",
    "# def HuffEncode(freq_dict):\n",
    "#     \"\"\"Return a dictionary (symbols2huff) which maps keys from the input dictionary freq_dict\n",
    "#        to bitstrings using a Huffman code based on the frequencies of each key\"\"\"\n",
    "#     freqToLetters = []\n",
    "#     huffMapSoFar = dict()\n",
    "#     for key in freq_dict:\n",
    "#         heappush(freqToLetters, ((freq_dict[key]), [key]))\n",
    "#         huffMapSoFar[key]= \"\"\n",
    "#     # Your Beautiful Code Here #\n",
    "#     while len(freqToLetters) > 1:\n",
    "#         smallest = heappop(freqToLetters)\n",
    "#         secsmallest = heappop(freqToLetters)\n",
    "#         combined = (smallest[0] + secsmallest[0], smallest[1] + secsmallest[1])\n",
    "#         for symbol in smallest[1]:\n",
    "#             huffMapSoFar[symbol] = \"0\" + huffMapSoFar[symbol]\n",
    "#         for symbol in secsmallest[1]:\n",
    "#             huffMapSoFar[symbol] = \"1\" + huffMapSoFar[symbol]\n",
    "#         heappush(freqToLetters, combined)\n",
    "#     return huffMapSoFar\n",
    "    \n",
    "\n",
    "\n",
    "## Make sure to remove Gold code before doing this\n",
    "def HuffDecode(bit_string, huffTree): \n",
    "    contents = \"\"\n",
    "    \n",
    "    track_node = huffTree\n",
    "    for bit in bit_string:\n",
    "        if bit == '1':\n",
    "            track_node = track_node.left\n",
    "        else:\n",
    "            track_node = track_node.right\n",
    "                \n",
    "        if track_node.left == None and track_node.right == None:\n",
    "                contents += track_node.value\n",
    "                track_node = huffTree\n",
    "        \n",
    "    return contents\n",
    "    \n",
    "test = {'A': 5, 'B': 2, 'R': 2, 'C': 1, 'D': 1}\n",
    "t = HuffEncode(test)\n",
    "print(t)\n",
    "print(constructDict(t))\n",
    "\n",
    "s = \"ABRCDBCD\"\n",
    "\n",
    "huffs = encode_string(s, t, 1)\n",
    "print(huffs)\n",
    "\n",
    "decoded = HuffDecode(huffs, t)\n",
    "print(decoded)\n"
   ]
  },
  {
   "cell_type": "code",
   "execution_count": null,
   "metadata": {},
   "outputs": [],
   "source": []
  },
  {
   "cell_type": "code",
   "execution_count": 50,
   "metadata": {},
   "outputs": [
    {
     "name": "stdout",
     "output_type": "stream",
     "text": [
      "{' ': 0.030303030303030304, 'u': 0.030303030303030304, '\\n': 0.0, 'h': 0.030303030303030304, 'd': 0.030303030303030304, 'w': 0.030303030303030304, 'g': 0.030303030303030304, 'z': 0.030303030303030304, 'f': 0.030303030303030304, 'p': 0.030303030303030304, 'r': 0.030303030303030304, 't': 0.030303030303030304, 'y': 0.030303030303030304, 'x': 0.030303030303030304, 'n': 0.030303030303030304, 'a': 0.030303030303030304, 'j': 0.030303030303030304, 's': 0.030303030303030304, 'l': 0.09090909090909091, 'm': 0.030303030303030304, 'i': 0.030303030303030304, 'b': 0.030303030303030304, 'c': 0.030303030303030304, 'k': 0.030303030303030304, 'v': 0.030303030303030304, 'q': 0.030303030303030304, 'H': 0.030303030303030304, 'e': 0.06060606060606061, 'o': 0.06060606060606061}\n"
     ]
    }
   ],
   "source": [
    "contents, freq_dict = letter_count(filename)\n",
    "print(freq_dict)"
   ]
  },
  {
   "cell_type": "code",
   "execution_count": 52,
   "metadata": {
    "scrolled": true
   },
   "outputs": [
    {
     "name": "stdout",
     "output_type": "stream",
     "text": [
      "{'l': '111', 'e': '1101', 'j': '11001', 'z': '11000', 'd': '10111', 'b': '10110', 'c': '10101', 'r': '10100', 'x': '10011', '\\n': '100101', 'n': '100100', 'y': '10001', 'q': '10000', 'i': '01111', 'm': '01110', 'f': '01101', 'h': '01100', 'g': '01011', ' ': '01010', 'v': '01001', 'k': '01000', 'w': '00111', 'H': '00110', 't': '00101', 'u': '00100', 'p': '00011', 's': '00010', 'a': '00001', 'o': '00000'}\n"
     ]
    }
   ],
   "source": [
    "huffTree = HuffEncode(freq_dict)\n",
    "huff = constructDict(huffTree)\n",
    "print(huff)"
   ]
  },
  {
   "cell_type": "code",
   "execution_count": 29,
   "metadata": {},
   "outputs": [
    {
     "data": {
      "text/plain": [
       "'1111000'"
      ]
     },
     "execution_count": 29,
     "metadata": {},
     "output_type": "execute_result"
    }
   ],
   "source": [
    "huff[',']"
   ]
  },
  {
   "cell_type": "code",
   "execution_count": 55,
   "metadata": {},
   "outputs": [
    {
     "name": "stdout",
     "output_type": "stream",
     "text": [
      "Contents as string:  Hello abcdefghijklmnopqrstuvwxyz\n",
      "\n",
      "Bit representation:  001101101111111000000101000001101101010110111110101101010110110001111110010100011101110100100000000001110000101000001000101001000100100111100111000111000100101\n",
      "Hello abcdefghijklmnopqrstuvwxyz\n",
      "\n",
      "Wave shape:  (140679,)\n"
     ]
    }
   ],
   "source": [
    "#Import text and store as a string\n",
    "\n",
    "# contents = \"\" \n",
    "# with open(filename, \"r\") as f: \n",
    "#     contents = f.read() \n",
    "print(\"Contents as string: \", contents)\n",
    "\n",
    "### Convert contents to binary string bin_contents \n",
    "# bin_contents = \"\".join(format(ord(c), '08b') for c in contents) #08b means 0 pad and 8 length\n",
    "bin_contents = \"\"\n",
    "for c in contents: \n",
    "    bin_contents += huff[c]\n",
    "print(\"Bit representation: \", bin_contents)\n",
    "\n",
    "print(HuffDecode(bin_contents, huffTree))\n",
    "\n",
    "\n",
    "\n",
    "##Creating the \"Sandwiche\" Signal##\n",
    "\n",
    "Flag =  '11100111'*10\n",
    "bin_contents = Flag+bin_contents+Flag\n",
    "\n",
    "# Generate wave \n",
    "wave = [] \n",
    "for b in bin_contents:\n",
    "    if b == '0':\n",
    "        freq = low_freq \n",
    "    elif b == '1':\n",
    "        freq = high_freq \n",
    "    else:\n",
    "        print(b)    \n",
    "    waveform = np.sin(2 * np.pi * freq * np.arange(t * fs) / fs) \n",
    "    waveform_ints = np.int16(max_amp * waveform)\n",
    "    wave = np.append(wave, waveform_ints)\n",
    "print(\"Wave shape: \", np.shape(wave))\n"
   ]
  },
  {
   "cell_type": "code",
   "execution_count": null,
   "metadata": {},
   "outputs": [],
   "source": []
  }
 ],
 "metadata": {
  "kernelspec": {
   "display_name": "Python 3",
   "language": "python",
   "name": "python3"
  },
  "language_info": {
   "codemirror_mode": {
    "name": "ipython",
    "version": 3
   },
   "file_extension": ".py",
   "mimetype": "text/x-python",
   "name": "python",
   "nbconvert_exporter": "python",
   "pygments_lexer": "ipython3",
   "version": "3.6.2"
  }
 },
 "nbformat": 4,
 "nbformat_minor": 2
}
