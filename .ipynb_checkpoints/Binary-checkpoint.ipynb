{
 "cells": [
  {
   "cell_type": "markdown",
   "metadata": {},
   "source": [
    "Okay so Projection approach is a bust because of noise. My attempt at pure FM. We need to get 100 bits a second at least. Okay so $\\delta \\leq 0.01 s$. \n",
    "\n",
    "This notebook is only for converting .txt file into binary and then creating FM waves to send. I'll do pyAudio in .py files. "
   ]
  },
  {
   "cell_type": "code",
   "execution_count": 19,
   "metadata": {},
   "outputs": [
    {
     "data": {
      "text/plain": [
       "48"
      ]
     },
     "execution_count": 19,
     "metadata": {},
     "output_type": "execute_result"
    }
   ],
   "source": [
    "ord('0') # ord() returns the Unicode number of a character"
   ]
  },
  {
   "cell_type": "code",
   "execution_count": 6,
   "metadata": {},
   "outputs": [
    {
     "name": "stdout",
     "output_type": "stream",
     "text": [
      "Hello abcdefghijklmnopqrstuvwxyz\n",
      "\n"
     ]
    }
   ],
   "source": [
    "### Import text from a .txt file and store it as a string \n",
    "filename = \"test.txt\"\n",
    "contents = \"\"\n",
    "with open(filename, \"r\") as f:\n",
    "    contents = f.read()\n",
    "\n",
    "print(contents)"
   ]
  },
  {
   "cell_type": "code",
   "execution_count": 21,
   "metadata": {},
   "outputs": [
    {
     "name": "stdout",
     "output_type": "stream",
     "text": [
      "1001000 1100101 1101100 1101100 1101111 100000 1100001 1100010 1100011 1100100 1100101 1100110 1100111 1101000 1101001 1101010 1101011 1101100 1101101 1101110 1101111 1110000 1110001 1110010 1110011 1110100 1110101 1110110 1110111 1111000 1111001 1111010 1010\n"
     ]
    }
   ],
   "source": [
    "### Convert contents to binary string bin_contents \n",
    "# Doesn't pad bit strings so they're of different lenghts - that's why I'm separating with spaces\n",
    "bin_contents = \" \".join(format(ord(c), 'b') for c in contents) \n",
    "print(bin_contents)"
   ]
  },
  {
   "cell_type": "code",
   "execution_count": 22,
   "metadata": {},
   "outputs": [],
   "source": [
    "### Frequency encodings in Hz\n",
    "low_freq = 1000 \n",
    "high_freq = 11907 # Chose something that's coprime with low_freq"
   ]
  },
  {
   "cell_type": "code",
   "execution_count": 25,
   "metadata": {},
   "outputs": [
    {
     "data": {
      "text/plain": [
       "True"
      ]
     },
     "execution_count": 25,
     "metadata": {},
     "output_type": "execute_result"
    }
   ],
   "source": [
    "bin_contents[0] == '1'"
   ]
  },
  {
   "cell_type": "code",
   "execution_count": 6,
   "metadata": {},
   "outputs": [],
   "source": [
    "import sounddevice as sd"
   ]
  },
  {
   "cell_type": "code",
   "execution_count": 7,
   "metadata": {},
   "outputs": [],
   "source": [
    "import numpy as np\n",
    "#####################################################################################################################\n",
    "\n",
    "### Import text from a .txt file and store it as a string \n",
    "filename = \"test.txt\"\n",
    "contents = \"\"\n",
    "with open(filename, \"r\") as f:\n",
    "    contents = f.read()\n",
    "\n",
    "### Convert contents to binary string bin_contents \n",
    "# Doesn't pad bit strings so they're of different lenghts - that's why I'm separating with spaces\n",
    "bin_contents = \"\".join(format(ord(c), 'b') for c in contents) \n",
    "\n",
    "### Frequency encodings in Hz\n",
    "low_freq = 1000\n",
    "high_freq = 11907 # Chose something that's coprime with low_freq\n",
    "\n",
    "#####################################################################################################################\n",
    "\n",
    "fs = 44100 # Usually 44100 or 48000 fps \n",
    "t = 0.1\n",
    "wave = []\n",
    "\n",
    "for b in bin_contents:\n",
    "    if b == '0':\n",
    "        freq = low_freq \n",
    "    elif b == '1':\n",
    "        freq = high_freq \n",
    "    else:\n",
    "        print(b)\n",
    "    \n",
    "    # wave.append((np.sin(2 * np.pi * freq * np.arange(t * fs) / fs))[:])\n",
    "    wave = np.append(wave, [128*np.sin(2 * np.pi * freq * np.arange(t * fs) / fs)])"
   ]
  },
  {
   "cell_type": "code",
   "execution_count": 2,
   "metadata": {},
   "outputs": [
    {
     "name": "stdout",
     "output_type": "stream",
     "text": [
      "[  0.         126.99068177 -31.83230556 ... -53.05999062 -35.98222251\n",
      " -18.1752727 ]\n"
     ]
    }
   ],
   "source": [
    "print(wave)"
   ]
  },
  {
   "cell_type": "code",
   "execution_count": 8,
   "metadata": {},
   "outputs": [
    {
     "data": {
      "text/plain": [
       "   0 HDA Intel PCH: ALC3246 Analog (hw:0,0), ALSA (0 in, 2 out)\n",
       "   1 HDA Intel PCH: HDMI 0 (hw:0,3), ALSA (0 in, 8 out)\n",
       "   2 HDA Intel PCH: HDMI 1 (hw:0,7), ALSA (0 in, 8 out)\n",
       "   3 HDA Intel PCH: HDMI 2 (hw:0,8), ALSA (0 in, 8 out)\n",
       "   4 HDA Intel PCH: HDMI 3 (hw:0,9), ALSA (0 in, 8 out)\n",
       "   5 HDA Intel PCH: HDMI 4 (hw:0,10), ALSA (0 in, 8 out)\n",
       "   6 sysdefault, ALSA (0 in, 128 out)\n",
       "   7 front, ALSA (0 in, 2 out)\n",
       "   8 surround40, ALSA (0 in, 2 out)\n",
       "   9 surround51, ALSA (0 in, 2 out)\n",
       "  10 surround71, ALSA (0 in, 2 out)\n",
       "  11 hdmi, ALSA (0 in, 8 out)\n",
       "< 12 default, ALSA (0 in, 128 out)\n",
       "  13 dmix, ALSA (0 in, 2 out)"
      ]
     },
     "execution_count": 8,
     "metadata": {},
     "output_type": "execute_result"
    }
   ],
   "source": [
    "sd.query_devices()"
   ]
  },
  {
   "cell_type": "code",
   "execution_count": 9,
   "metadata": {},
   "outputs": [
    {
     "data": {
      "text/plain": [
       "(1246720,\n",
       " 'PortAudio V19.6.0-devel, revision 396fe4b6699ae929d3a685b3ef8a7e97396139a4')"
      ]
     },
     "execution_count": 9,
     "metadata": {},
     "output_type": "execute_result"
    }
   ],
   "source": [
    "sd.get_portaudio_version()"
   ]
  }
 ],
 "metadata": {
  "kernelspec": {
   "display_name": "Python 3",
   "language": "python",
   "name": "python3"
  },
  "language_info": {
   "codemirror_mode": {
    "name": "ipython",
    "version": 3
   },
   "file_extension": ".py",
   "mimetype": "text/x-python",
   "name": "python",
   "nbconvert_exporter": "python",
   "pygments_lexer": "ipython3",
   "version": "3.7.3"
  }
 },
 "nbformat": 4,
 "nbformat_minor": 2
}
