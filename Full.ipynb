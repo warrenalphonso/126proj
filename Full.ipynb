{
 "cells": [
  {
   "cell_type": "code",
   "execution_count": 1,
   "metadata": {},
   "outputs": [],
   "source": [
    "%matplotlib inline \n",
    "import matplotlib.pyplot as plt\n",
    "import numpy as np\n",
    "import sounddevice as sd\n",
    "from scipy.io import wavfile \n",
    "import os"
   ]
  },
  {
   "cell_type": "code",
   "execution_count": 2,
   "metadata": {},
   "outputs": [],
   "source": [
    "## Set parameters\n",
    "text_filename = \"test.txt\"\n",
    "audio_filename = \"new.wav\"\n",
    "\n",
    "# Frequency encodings in Hz\n",
    "low_freq = 512\n",
    "high_freq = 2187 # Chose something that's coprime with low_freq 5103\n",
    "gold_freq = 4375\n",
    "gold_freq_2 = 1331 \n",
    "\n",
    "fs = 44100 # Usually 44100 or 48000 fps \n",
    "t = 0.01\n",
    "max_amp = 32767 # Because of signed 16 bit integers"
   ]
  },
  {
   "cell_type": "markdown",
   "metadata": {},
   "source": [
    "## Generating Signal"
   ]
  },
  {
   "cell_type": "code",
   "execution_count": 3,
   "metadata": {},
   "outputs": [
    {
     "name": "stdout",
     "output_type": "stream",
     "text": [
      "Contents as string:  Hello abcdefghijklmnopqrstuvwxyz\n",
      "\n",
      "Bit representation:  22222222222222222222222222222222222222220100100001100101011011000110110001101111001000000110000101100010011000110110010001100101011001100110011101101000011010010110101001101011011011000110110101101110011011110111000001110001011100100111001101110100011101010111011001110111011110000111100101111010000010102222222222222222222222222222222222222222\n",
      "Time to send:  3.44 seconds\n",
      "Wave shape:  (151704,)\n"
     ]
    }
   ],
   "source": [
    "### Import text and store as a string\n",
    "contents = \"\" \n",
    "with open(text_filename, \"r\") as f: \n",
    "    contents = f.read() \n",
    "print(\"Contents as string: \", contents)\n",
    "\n",
    "### Convert contents to binary string bin_contents \n",
    "# REPLACE WITH HUFFMAN\n",
    "bin_contents = \"\".join(format(ord(c), '08b') for c in contents) #08b means 0 pad and 8 length\n",
    "\n",
    "### Creating the \"Sandwiche\" Signal##\n",
    "Flag =  '22222222'*5\n",
    "bin_contents = Flag + bin_contents + Flag\n",
    "\n",
    "print(\"Bit representation: \", bin_contents,)\n",
    "print(\"Time to send: \", len(bin_contents) * t, \"seconds\")\n",
    "\n",
    "# Generate wave \n",
    "wave = [] \n",
    "for b in bin_contents:\n",
    "    if b == '0':\n",
    "        freq = low_freq \n",
    "    elif b == '1':\n",
    "        freq = high_freq \n",
    "    elif b == '2': \n",
    "        freq = gold_freq\n",
    "    else:\n",
    "        print('This should be 0 or 1 (or 2): ', b)    \n",
    "    waveform = np.sin(2 * np.pi * freq * np.arange(t * fs) / fs) \n",
    "    waveform_ints = np.int16(max_amp * waveform)\n",
    "    wave = np.append(wave, waveform_ints)\n",
    "print(\"Wave shape: \", np.shape(wave))"
   ]
  },
  {
   "cell_type": "code",
   "execution_count": 46,
   "metadata": {},
   "outputs": [],
   "source": [
    "wavfile.write(audio_filename, fs, wave.astype(np.dtype('i2')))"
   ]
  },
  {
   "cell_type": "code",
   "execution_count": 47,
   "metadata": {},
   "outputs": [
    {
     "data": {
      "text/plain": [
       "2"
      ]
     },
     "execution_count": 47,
     "metadata": {},
     "output_type": "execute_result"
    }
   ],
   "source": [
    "### DOESNT WORK ON MACOS I THINK - CHANGE TO SD.PLAY\n",
    "os.system(\"aplay {}\".format(audio_filename))"
   ]
  },
  {
   "cell_type": "markdown",
   "metadata": {},
   "source": [
    "## Recording "
   ]
  },
  {
   "cell_type": "code",
   "execution_count": 4,
   "metadata": {},
   "outputs": [],
   "source": [
    "# Set parameters \n",
    "duration = 5 # seconds "
   ]
  },
  {
   "cell_type": "code",
   "execution_count": 6,
   "metadata": {},
   "outputs": [
    {
     "name": "stdout",
     "output_type": "stream",
     "text": [
      "Shape of recording data:  (220500, 1)\n",
      "Done recording\n"
     ]
    }
   ],
   "source": [
    "# I'm using channels=1, most audio recording uses 2 channels because \n",
    "# of two headphone speakers (I think) but I think 1 channel is better \n",
    "# for plotting data\n",
    "\n",
    "my_recording = sd.rec(int(duration * fs), samplerate=fs, channels=1)\n",
    "sd.wait()\n",
    "sd.stop()\n",
    "\n",
    "print(\"Shape of recording data: \", np.shape(my_recording))\n",
    "\n",
    "print('Done recording')\n",
    "\n",
    "wavfile.write(audio_filename, fs, my_recording)\n",
    "\n",
    "# Make sure `python -m sounddevice` or `sd.query_devices()` says\n",
    "# you're connected to both *in* and *out* channels. "
   ]
  },
  {
   "cell_type": "markdown",
   "metadata": {},
   "source": [
    "## Post-Processing"
   ]
  },
  {
   "cell_type": "code",
   "execution_count": 7,
   "metadata": {},
   "outputs": [
    {
     "name": "stdout",
     "output_type": "stream",
     "text": [
      "Sample rate (should be same as fs):  44100\n",
      "Data shape (should be 1-dimensional):  (220500,)\n"
     ]
    }
   ],
   "source": [
    "# Read the file - we'll have to change this to do while recording \n",
    "# SOURCE: https://pythondsp.rob-elder.com/loading-wav-files-and-showing-frequency-response/\n",
    "sample_rate, data = wavfile.read(audio_filename) \n",
    "print(\"Sample rate (should be same as fs): \", sample_rate)\n",
    "print(\"Data shape (should be 1-dimensional): \", data.shape)\n",
    "samples = data.shape[0]"
   ]
  },
  {
   "cell_type": "code",
   "execution_count": 15,
   "metadata": {},
   "outputs": [
    {
     "data": {
      "image/png": "[encoded data removed]",
      "text/plain": [
       "<Figure size 432x288 with 1 Axes>"
      ]
     },
     "metadata": {
      "needs_background": "light"
     },
     "output_type": "display_data"
    }
   ],
   "source": [
    "# Show first 200 samples \n",
    "plt.title(\"First 200 samples\")\n",
    "plt.plot(data[:1000])\n",
    "plt.show()"
   ]
  },
  {
   "cell_type": "code",
   "execution_count": 16,
   "metadata": {},
   "outputs": [
    {
     "data": {
      "image/png": "[encoded data removed]",
      "text/plain": [
       "<Figure size 432x288 with 1 Axes>"
      ]
     },
     "metadata": {
      "needs_background": "light"
     },
     "output_type": "display_data"
    },
    {
     "data": {
      "image/png": "[encoded data removed]",
      "text/plain": [
       "<Figure size 432x288 with 1 Axes>"
      ]
     },
     "metadata": {
      "needs_background": "light"
     },
     "output_type": "display_data"
    }
   ],
   "source": [
    "### This figures out frequencies for the *WHOLE* recording. \n",
    "\n",
    "data_fft = np.fft.fft(data)\n",
    "fft_abs = abs(data_fft) \n",
    "freqs = np.fft.fftfreq(len(data), 1/fs)\n",
    "plt.title(\"Absolute value of FFT plotted against freqs\")\n",
    "plt.plot(freqs, fft_abs)\n",
    "plt.show() \n",
    "\n",
    "# Let's use a better scale: the log scale which shows freqs in Hertz \n",
    "plt.xlim([10, sample_rate/2]) \n",
    "plt.xscale('log')\n",
    "plt.grid(True)\n",
    "plt.xlabel('Frequency (Hz)')\n",
    "plt.title('Hertz scale')\n",
    "# The original example used freqs[:int(freqs.size/2)] but I don't \n",
    "# think it matters\n",
    "plt.plot(freqs, fft_abs)\n",
    "plt.show()"
   ]
  },
  {
   "cell_type": "markdown",
   "metadata": {},
   "source": [
    "### Aligning to .01 seconds"
   ]
  },
  {
   "cell_type": "markdown",
   "metadata": {},
   "source": [
    "We start recording, **then start playing**, so that aligning should only get rid of noise. Our entire signal should be preserved. "
   ]
  },
  {
   "cell_type": "code",
   "execution_count": 17,
   "metadata": {},
   "outputs": [],
   "source": [
    "# Set parameters \n",
    "threshold_diff = 10\n",
    "samp_per_chunk = int(t * fs) \n",
    "\n",
    "# Keeps shifting until we find a different in fft energy that meets \n",
    "# the threshold_diff\n",
    "def find_start_index():\n",
    "    start_index = 0\n",
    "    highest_diff = 0\n",
    "    end_index = 0\n",
    "    for i in range(len(data)):\n",
    "        # Compute fft for a chunk starting at the i'th sample\n",
    "        chunk_fft = np.fft.fft(data[i:i+samp_per_chunk])\n",
    "        chunk_fft_abs = abs(chunk_fft)\n",
    "        \n",
    "        # Compute mass of fft of 2 signal and then make sure it's higher than\n",
    "        # the threshold_diff of the next highest thing\n",
    "#         mass_0 = max(fft_abs[4:7])\n",
    "#         mass_1 = max(fft_abs[20:23]) \n",
    "        mass_2 = max(fft_abs[42:45])\n",
    "        fft_abs[42] = 0\n",
    "        fft_abs[43] = 0 \n",
    "        fft_abs[44] = 0 \n",
    "        other_highest = max(fft_abs) \n",
    "        \n",
    "        if start_index == 0 and abs(mass_2 - other_highest) > threshold_diff:\n",
    "            start_index = i \n",
    "            highest_diff = abs(mass_2 - other_highest)\n",
    "        if start_index != 0 and abs(mass_2 - other_highest) >= highest_diff:\n",
    "            end_index = i\n",
    "            highest_diff = abs(mass_2 - other_highest)\n",
    "        else: # diff is decreasing so we were at max correlation  \n",
    "            return end_index\n",
    "        \n",
    "#         if abs(mass_0 - mass_1) > threshold_diff:\n",
    "#             return i"
   ]
  },
  {
   "cell_type": "code",
   "execution_count": 18,
   "metadata": {},
   "outputs": [
    {
     "name": "stdout",
     "output_type": "stream",
     "text": [
      "Starting index:  0\n",
      "Previous length:  220500\n",
      "After length:  220500\n"
     ]
    }
   ],
   "source": [
    "starting_index = find_start_index()\n",
    "\n",
    "# Change data to reflect accurate starting index \n",
    "print('Starting index: ', starting_index)\n",
    "print('Previous length: ', len(data))\n",
    "data = data[starting_index:]\n",
    "print('After length: ', len(data))"
   ]
  },
  {
   "cell_type": "code",
   "execution_count": 19,
   "metadata": {},
   "outputs": [
    {
     "name": "stdout",
     "output_type": "stream",
     "text": [
      "Length of each chunks:  441\n",
      "Number of chunks (should be duration / t):  500\n",
      "Make sure 0 bit freq is in between this:  [400. 500. 600.]\n",
      "Make sure 1 bit freq is in between this:  [2000. 2100. 2200.]\n"
     ]
    },
    {
     "data": {
      "image/png": "[encoded data removed]",
      "text/plain": [
       "<Figure size 432x288 with 1 Axes>"
      ]
     },
     "metadata": {
      "needs_background": "light"
     },
     "output_type": "display_data"
    }
   ],
   "source": [
    "### This figures out frequencies for every interval of t seconds. \n",
    "### This is what we use to decode but it has to be perfectly \n",
    "### aligned with when the first signal starts. \n",
    "\n",
    "end = len(data)\n",
    "chunks = [data[i:i + samp_per_chunk] \n",
    "          for i in range(starting_index, end, samp_per_chunk)]\n",
    "\n",
    "print('Length of each chunks: ', samp_per_chunk)\n",
    "print('Number of chunks (should be duration / t): ', len(chunks)) \n",
    "\n",
    "result_bit_string = \"\"\n",
    "for i in range(len(chunks)): \n",
    "    chunk = chunks[i]\n",
    "    c_fft = np.fft.fft(chunk)\n",
    "    c_fft_abs = abs(c_fft)\n",
    "    \n",
    "    c_samples = chunk.shape[0]\n",
    "    c_freqs = np.fft.fftfreq(c_samples, 1/sample_rate)\n",
    "        \n",
    "    ### Here's a potential problem: the c_freqs array here has each entry differ by 100\n",
    "    # c_freqs[50:60] is [5000, 5100, 5200, 5300, 5400, 5500, 5600, 5700, 5800, 5900] but \n",
    "    # in the whole sample (ie the freqs array 2 cells above) it differs by .2 \n",
    "    ### Testing indices \n",
    "    if i == 0:\n",
    "        mass_0_freqs = c_freqs[4:7]\n",
    "        mass_1_freqs = c_freqs[20:23]\n",
    "        print('Make sure 0 bit freq is in between this: ', mass_0_freqs)\n",
    "        print('Make sure 1 bit freq is in between this: ', mass_1_freqs)\n",
    "    \n",
    "    mass_0 = max(c_fft_abs[4:7])\n",
    "    mass_1 = max(c_fft_abs[20:23])\n",
    "    mass_2 = max(c_fft_abs[42:45])\n",
    "    \n",
    "    #NEED TO ADD THRESHOLD \n",
    "    if mass_2 > mass_0 and mass_2 > mass_1:\n",
    "        result_bit_string += '2' \n",
    "    elif mass_0 > mass_1: \n",
    "        result_bit_string += '0'\n",
    "    elif mass_1 > mass_0:\n",
    "        result_bit_string += '1'\n",
    "    else: \n",
    "        print('None worked: ', mass_0, mass_1, mass_2)\n",
    "    \n",
    "    # FFT for every chunk\n",
    "    plt.xscale('log')\n",
    "    plt.grid(True)\n",
    "    plt.xlabel('Frequency (Hz)')\n",
    "    plt.title('Hertz scale')\n",
    "    plt.plot(c_freqs, c_fft_abs)"
   ]
  },
  {
   "cell_type": "code",
   "execution_count": 23,
   "metadata": {},
   "outputs": [
    {
     "name": "stdout",
     "output_type": "stream",
     "text": [
      "00000000000000000000000000000000000000000000000000000000000011111111111111111111111111111111111111111100100001101101111011010110110001101111001000000110000101100010011000110110010001100101011001100110011101101000011010010110101001101011011011000110110101101110011011110111001001110001011100100111001101110100011101010111011001110111011110000111110101111110000010101111111111111111111111111111111111111111111111111111111111110100101101110000000010000000000000000000000000000000000000000000000000000000\n"
     ]
    }
   ],
   "source": [
    "### Now get rid of Gold code. Make sure to change any '2' \n",
    "### that isn't part of the Gold code section to a 1 or something \n",
    "\n",
    "# Test: \n",
    "# result_bit_string = '22222222222222222222222222222222222222010100201021010101010210101011101110012202222222222222222222'\n",
    "print(result_bit_string)\n",
    "l_result = list(result_bit_string)\n",
    "\n",
    "# Remove Gold code prefix \n",
    "while l_result[0] == '2':\n",
    "    l_result = l_result[1:]\n",
    "\n",
    "# Remove Gold code suffix \n",
    "l_result = l_result[::-1]\n",
    "while l_result[0] == '2':\n",
    "    l_result = l_result[1:]\n",
    "l_result = l_result[::-1]\n",
    "\n",
    "# Change '2' in string to '1'\n",
    "for i in range(len(l_result)):\n",
    "    if l_result[i] == '2':\n",
    "        l_result[i] = '1'\n",
    "\n",
    "result_bit_string = \"\".join(l_result)"
   ]
  },
  {
   "cell_type": "code",
   "execution_count": 22,
   "metadata": {},
   "outputs": [
    {
     "name": "stdout",
     "output_type": "stream",
     "text": [
      "\u0000\u0000\u0000\u0000\u0000\u0000\u0000\u000fÿÿÿÿüÞÖÆò\u0006\u0016&6FVfv¦¶ÆÖæ÷'\u0017'7GWgw×à¯ÿÿÿÿÿÿÿKp\b\u0000\u0000\u0000\u0000\u0000\u0000\u0000\n"
     ]
    }
   ],
   "source": [
    "### Decode result_bit_string \n",
    "\n",
    "# Huffman decode eventually \n",
    "decoded_string = \"\" \n",
    "for i in range(0, len(result_bit_string), 8):\n",
    "    decoded_string += chr(int(result_bit_string[i:i+8], 2))\n",
    "print(decoded_string)"
   ]
  },
  {
   "cell_type": "code",
   "execution_count": null,
   "metadata": {},
   "outputs": [],
   "source": []
  }
 ],
 "metadata": {
  "kernelspec": {
   "display_name": "Python 3",
   "language": "python",
   "name": "python3"
  },
  "language_info": {
   "codemirror_mode": {
    "name": "ipython",
    "version": 3
   },
   "file_extension": ".py",
   "mimetype": "text/x-python",
   "name": "python",
   "nbconvert_exporter": "python",
   "pygments_lexer": "ipython3",
   "version": "3.6.2"
  }
 },
 "nbformat": 4,
 "nbformat_minor": 2
}
